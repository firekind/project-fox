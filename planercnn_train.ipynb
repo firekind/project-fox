{
  "nbformat": 4,
  "nbformat_minor": 0,
  "metadata": {
    "colab": {
      "name": "notebook-planercnn.ipynb",
      "provenance": [],
      "collapsed_sections": []
    },
    "kernelspec": {
      "name": "python3",
      "display_name": "Python 3"
    },
    "accelerator": "GPU"
  },
  "cells": [
    {
      "cell_type": "markdown",
      "metadata": {
        "id": "g7dFXFYcD4l7"
      },
      "source": [
        "## Downloading dependencies and code"
      ]
    },
    {
      "cell_type": "code",
      "metadata": {
        "id": "CC-sLtO4KbUY"
      },
      "source": [
        "%load_ext tensorboard"
      ],
      "execution_count": 1,
      "outputs": []
    },
    {
      "cell_type": "code",
      "metadata": {
        "colab": {
          "base_uri": "https://localhost:8080/"
        },
        "id": "5-1mNCRUA2lQ",
        "outputId": "d2936a05-86e6-40aa-ac5b-637af6e2e3c9"
      },
      "source": [
        "%%shell\n",
        "\n",
        "if [[ ! -d project-fox ]]; then\n",
        "    git clone https://github.com/firekind/project-fox --recurse-submodules &> /dev/null\n",
        "    echo \"Cloned repo.\"\n",
        "else\n",
        "    cd project-fox && git pull\n",
        "    echo \"Pulled repo.\"\n",
        "fi\n",
        "\n",
        "pip install --upgrade \\\n",
        "    git+http://github.com/firekind/athena \\\n",
        "    git+https://github.com/longcw/RoIAlign.pytorch \\\n",
        "    pytorch-lightning~=1.0.8 \\\n",
        "    &> /dev/null\n",
        "echo \"Downloaded dependencies.\""
      ],
      "execution_count": 2,
      "outputs": [
        {
          "output_type": "stream",
          "text": [
            "Cloned repo.\n",
            "Downloaded dependencies.\n"
          ],
          "name": "stdout"
        },
        {
          "output_type": "execute_result",
          "data": {
            "text/plain": [
              ""
            ]
          },
          "metadata": {
            "tags": []
          },
          "execution_count": 2
        }
      ]
    },
    {
      "cell_type": "markdown",
      "metadata": {
        "id": "tsnnrD8lD75m"
      },
      "source": [
        "## Mounting drive, extracting dataset and weights"
      ]
    },
    {
      "cell_type": "code",
      "metadata": {
        "colab": {
          "base_uri": "https://localhost:8080/"
        },
        "id": "udAcgsNHCRiS",
        "outputId": "2316dc6f-dad8-471f-a738-94bf158b53f8"
      },
      "source": [
        "from google.colab import drive\n",
        "drive.mount('/content/drive')"
      ],
      "execution_count": 3,
      "outputs": [
        {
          "output_type": "stream",
          "text": [
            "Mounted at /content/drive\n"
          ],
          "name": "stdout"
        }
      ]
    },
    {
      "cell_type": "code",
      "metadata": {
        "colab": {
          "base_uri": "https://localhost:8080/"
        },
        "id": "Qf3_kA5oCkZn",
        "outputId": "17f1c8c6-fbea-4eb0-d05c-ca0f4ae248fc"
      },
      "source": [
        "%%shell\n",
        "DATA_DIR=/content/project-fox/data\n",
        "if [[ ! -d $DATA_DIR ]]; then\n",
        "    mkdir $DATA_DIR\n",
        "    echo \"extracting dataset...\"\n",
        "    unzip \"/content/drive/My Drive/project-fox/data.zip\" -d $DATA_DIR &> /dev/null\n",
        "    echo \"done.\"\n",
        "else\n",
        "    echo \"dataset already extracted.\"\n",
        "fi"
      ],
      "execution_count": 4,
      "outputs": [
        {
          "output_type": "stream",
          "text": [
            "extracting dataset...\n",
            "done.\n"
          ],
          "name": "stdout"
        },
        {
          "output_type": "execute_result",
          "data": {
            "text/plain": [
              ""
            ]
          },
          "metadata": {
            "tags": []
          },
          "execution_count": 4
        }
      ]
    },
    {
      "cell_type": "code",
      "metadata": {
        "colab": {
          "base_uri": "https://localhost:8080/"
        },
        "id": "Ju1Qr1YjDBg_",
        "outputId": "cc6f0568-15c2-4840-bbc8-a16a664800d7"
      },
      "source": [
        "%%shell\n",
        "WEIGHTS_DIR=/content/project-fox/weights\n",
        "if [[ ! -d $WEIGHTS_DIR ]]; then\n",
        "    mkdir $WEIGHTS_DIR\n",
        "    echo \"extracting weights...\"\n",
        "    tar -xf \"/content/drive/My Drive/project-fox/weights.tar.gz\" -C $WEIGHTS_DIR &> /dev/null\n",
        "    echo \"done.\"\n",
        "else\n",
        "    echo \"weights already extracted.\"\n",
        "fi"
      ],
      "execution_count": 5,
      "outputs": [
        {
          "output_type": "stream",
          "text": [
            "extracting weights...\n",
            "done.\n"
          ],
          "name": "stdout"
        },
        {
          "output_type": "execute_result",
          "data": {
            "text/plain": [
              ""
            ]
          },
          "metadata": {
            "tags": []
          },
          "execution_count": 5
        }
      ]
    },
    {
      "cell_type": "code",
      "metadata": {
        "id": "BYbjXj3lDrRe"
      },
      "source": [
        "import os\n",
        "os.chdir(\"/content/project-fox\")"
      ],
      "execution_count": 6,
      "outputs": []
    },
    {
      "cell_type": "markdown",
      "metadata": {
        "id": "OSLH5RWpEOt9"
      },
      "source": [
        "## Training PlaneRCNN"
      ]
    },
    {
      "cell_type": "code",
      "metadata": {
        "id": "4QGFxc7OD3Dm"
      },
      "source": [
        "from fox.config import Config\n",
        "from fox.dataset import ComboDataset\n",
        "from fox.model import Model\n",
        "import torch\n",
        "import pytorch_lightning as pl\n",
        "from athena.utils.progbar import ProgbarCallback\n",
        "from fox.utils import parse_data_cfg\n",
        "from fox.yolov3.utils.datasets import LoadImagesAndLabels"
      ],
      "execution_count": 7,
      "outputs": []
    },
    {
      "cell_type": "code",
      "metadata": {
        "colab": {
          "base_uri": "https://localhost:8080/"
        },
        "id": "0Vd8apcdEr8B",
        "outputId": "c237f001-1b13-4746-e5b3-cd132bb90bae"
      },
      "source": [
        "config = Config(\n",
        "    USE_YOLO=False,\n",
        "    DATA_DIR=\"data\",\n",
        "    IMG_SIZE=640,\n",
        "    MIN_IMG_SIZE=480,\n",
        "    BATCH_SIZE=10,\n",
        "    MIDAS_LOSS_WEIGHT=0,\n",
        "    PLANERCNN_LOSS_WEIGHT=1,\n",
        "    PREDICT_DEPTH=False,\n",
        "    EPOCHS=10\n",
        ")\n",
        "dataset = ComboDataset(config)\n",
        "val_dataset = ComboDataset(config, train=False)\n",
        "\n",
        "loader = torch.utils.data.DataLoader(\n",
        "    dataset,\n",
        "    batch_size=config.BATCH_SIZE,\n",
        "    shuffle=True,\n",
        "    collate_fn=dataset.collate_fn\n",
        ")\n",
        "loader_val = torch.utils.data.DataLoader(\n",
        "    val_dataset,\n",
        "    batch_size=config.BATCH_SIZE,\n",
        "    collate_fn=val_dataset.collate_fn\n",
        ")"
      ],
      "execution_count": 13,
      "outputs": [
        {
          "output_type": "stream",
          "text": [
            "Caching labels data/yolo/labels.npy (3161 found, 0 missing, 42 empty, 0 duplicate, for 3203 images): 100%|██████████| 3203/3203 [00:00<00:00, 9947.54it/s]\n",
            "Caching labels data/yolo/labels.npy (311 found, 0 missing, 7 empty, 0 duplicate, for 318 images): 100%|██████████| 318/318 [00:00<00:00, 7497.36it/s]\n"
          ],
          "name": "stderr"
        }
      ]
    },
    {
      "cell_type": "code",
      "metadata": {
        "colab": {
          "base_uri": "https://localhost:8080/"
        },
        "id": "OHcMALcOGX7R",
        "outputId": "c71216ba-0ce3-470b-da05-05175d2b0a15"
      },
      "source": [
        "model = Model(config, len(loader), 4, dataset.yolo_dataset.yolo_labels)"
      ],
      "execution_count": 14,
      "outputs": [
        {
          "output_type": "stream",
          "text": [
            "Loading weights:  weights/midas.pt\n"
          ],
          "name": "stdout"
        },
        {
          "output_type": "stream",
          "text": [
            "Using cache found in /root/.cache/torch/hub/facebookresearch_WSL-Images_master\n"
          ],
          "name": "stderr"
        }
      ]
    },
    {
      "cell_type": "code",
      "metadata": {
        "id": "WbGNGaw8Hvge"
      },
      "source": [
        "log_dir = \"/content/drive/My Drive/project-fox/logs\"\n",
        "name = \"Planercnn-only-img-480-640\"\n",
        "tensorboard_logger = pl.loggers.TensorBoardLogger(\n",
        "    log_dir, name=\"\", version=name, default_hp_metric=False\n",
        ")\n",
        "checkpoint_callback = pl.callbacks.ModelCheckpoint(\n",
        "    filepath=os.path.join(\n",
        "        log_dir, \n",
        "        name,\n",
        "        \"checkpoints\",\n",
        "        \"last\",\n",
        "    ),\n",
        ")"
      ],
      "execution_count": 10,
      "outputs": []
    },
    {
      "cell_type": "code",
      "metadata": {
        "id": "Y_yxEVWsKSlf"
      },
      "source": [
        "%tensorboard --logdir \"/content/drive/My Drive/project-fox/logs\""
      ],
      "execution_count": 11,
      "outputs": []
    },
    {
      "cell_type": "code",
      "metadata": {
        "colab": {
          "base_uri": "https://localhost:8080/"
        },
        "id": "sQJV_JQpGtlV",
        "outputId": "ad82e3bc-20ff-4588-9d5d-152b192e4624"
      },
      "source": [
        "pl.seed_everything(0)\n",
        "trainer = pl.Trainer(\n",
        "    max_epochs=config.EPOCHS,\n",
        "    gpus=1,\n",
        "    logger=tensorboard_logger,\n",
        "    checkpoint_callback=checkpoint_callback,\n",
        "    callbacks=[ProgbarCallback()],\n",
        "    progress_bar_refresh_rate=20,\n",
        "    automatic_optimization=False\n",
        ")\n",
        "\n",
        "trainer.fit(\n",
        "    model,\n",
        "    train_dataloader=loader,\n",
        "    val_dataloaders=loader_val\n",
        ")"
      ],
      "execution_count": 15,
      "outputs": [
        {
          "output_type": "stream",
          "text": [
            "/usr/local/lib/python3.6/dist-packages/torch/nn/functional.py:2952: UserWarning: nn.functional.upsample is deprecated. Use nn.functional.interpolate instead.\n",
            "  warnings.warn(\"nn.functional.upsample is deprecated. Use nn.functional.interpolate instead.\")\n",
            "/usr/local/lib/python3.6/dist-packages/torch/nn/functional.py:3063: UserWarning: Default upsampling behavior when mode=bilinear is changed to align_corners=False since 0.4.0. Please specify align_corners=True if the old behavior is desired. See the documentation of nn.Upsample for details.\n",
            "  \"See the documentation of nn.Upsample for details.\".format(mode))\n"
          ],
          "name": "stderr"
        },
        {
          "output_type": "stream",
          "text": [
            "Epoch: 1 / 10\n"
          ],
          "name": "stdout"
        },
        {
          "output_type": "stream",
          "text": [
            "/usr/local/lib/python3.6/dist-packages/torch/nn/functional.py:3385: UserWarning: Default grid_sample and affine_grid behavior has changed to align_corners=False since 1.3.0. Please specify align_corners=True if the old behavior is desired. See the documentation of grid_sample for details.\n",
            "  warnings.warn(\"Default grid_sample and affine_grid behavior has changed \"\n"
          ],
          "name": "stderr"
        },
        {
          "output_type": "stream",
          "text": [
            "321/321 [==============================] - 2148s 7s/step - total loss: 3.5834 - midas loss: 3110.6069 - planercnn loss: 3.5834\n",
            "Validation set: avg planercnn loss: 3.6413, avg midas loss: 3684.1770, avg total loss: 3.6413\n",
            "\n",
            "Epoch: 2 / 10\n",
            "321/321 [==============================] - 2206s 7s/step - total loss: 3.2732 - midas loss: 4014.4717 - planercnn loss: 3.2732\n",
            "Validation set: avg planercnn loss: 3.5812, avg midas loss: 3683.0701, avg total loss: 3.5812\n",
            "\n",
            "Epoch: 3 / 10\n",
            "321/321 [==============================] - 2220s 7s/step - total loss: 3.3588 - midas loss: 3752.4163 - planercnn loss: 3.3588\n",
            "Validation set: avg planercnn loss: 3.5356, avg midas loss: 3688.6321, avg total loss: 3.5356\n",
            "\n",
            "Epoch: 4 / 10\n",
            "321/321 [==============================] - 2214s 7s/step - total loss: 3.2724 - midas loss: 3606.4172 - planercnn loss: 3.2724\n",
            "Validation set: avg planercnn loss: 3.5092, avg midas loss: 3685.3510, avg total loss: 3.5092\n",
            "\n",
            "Epoch: 5 / 10\n",
            "321/321 [==============================] - 2218s 7s/step - total loss: 3.3997 - midas loss: 4374.6392 - planercnn loss: 3.3997\n",
            "Validation set: avg planercnn loss: 3.4947, avg midas loss: 3686.5210, avg total loss: 3.4947\n",
            "\n",
            "Epoch: 6 / 10\n",
            "321/321 [==============================] - 2208s 7s/step - total loss: 3.5355 - midas loss: 4133.7666 - planercnn loss: 3.5355\n",
            "Validation set: avg planercnn loss: 3.4800, avg midas loss: 3680.2164, avg total loss: 3.4800\n",
            "\n",
            "Epoch: 7 / 10\n",
            "321/321 [==============================] - 2221s 7s/step - total loss: 3.0528 - midas loss: 3717.1362 - planercnn loss: 3.0528\n",
            "Validation set: avg planercnn loss: 3.4657, avg midas loss: 3684.3093, avg total loss: 3.4657\n",
            "\n",
            "Epoch: 8 / 10\n",
            "321/321 [==============================] - 2248s 7s/step - total loss: 3.3075 - midas loss: 2693.0610 - planercnn loss: 3.3075\n",
            "Validation set: avg planercnn loss: 3.4620, avg midas loss: 3685.8238, avg total loss: 3.4620\n",
            "\n",
            "Epoch: 9 / 10\n",
            "321/321 [==============================] - 2255s 7s/step - total loss: 3.6617 - midas loss: 3900.5276 - planercnn loss: 3.6617\n",
            "Validation set: avg planercnn loss: 3.4526, avg midas loss: 3697.8058, avg total loss: 3.4526\n",
            "\n",
            "Epoch: 10 / 10\n",
            "321/321 [==============================] - 2227s 7s/step - total loss: 3.4289 - midas loss: 4167.5645 - planercnn loss: 3.4289\n",
            "Validation set: avg planercnn loss: 3.4484, avg midas loss: 3686.5699, avg total loss: 3.4484\n",
            "\n"
          ],
          "name": "stdout"
        },
        {
          "output_type": "execute_result",
          "data": {
            "text/plain": [
              "1"
            ]
          },
          "metadata": {
            "tags": []
          },
          "execution_count": 15
        }
      ]
    },
    {
      "cell_type": "code",
      "metadata": {
        "id": "GFSMf0ElakHF"
      },
      "source": [
        ""
      ],
      "execution_count": null,
      "outputs": []
    }
  ]
}