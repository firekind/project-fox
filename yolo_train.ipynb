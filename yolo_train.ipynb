{
  "nbformat": 4,
  "nbformat_minor": 0,
  "metadata": {
    "colab": {
      "name": "notebook-yolo.ipynb",
      "provenance": [],
      "collapsed_sections": [],
      "authorship_tag": "ABX9TyPP5pOAVudFOVUuLuUePE6E",
      "include_colab_link": true
    },
    "kernelspec": {
      "name": "python3",
      "display_name": "Python 3"
    },
    "accelerator": "GPU"
  },
  "cells": [
    {
      "cell_type": "markdown",
      "metadata": {
        "id": "view-in-github",
        "colab_type": "text"
      },
      "source": [
        "<a href=\"https://colab.research.google.com/github/firekind/project-fox/blob/master/yolo_train.ipynb\" target=\"_parent\"><img src=\"https://colab.research.google.com/assets/colab-badge.svg\" alt=\"Open In Colab\"/></a>"
      ]
    },
    {
      "cell_type": "markdown",
      "metadata": {
        "id": "g7dFXFYcD4l7"
      },
      "source": [
        "## Downloading dependencies and code"
      ]
    },
    {
      "cell_type": "code",
      "metadata": {
        "id": "CC-sLtO4KbUY"
      },
      "source": [
        "%load_ext tensorboard"
      ],
      "execution_count": null,
      "outputs": []
    },
    {
      "cell_type": "code",
      "metadata": {
        "colab": {
          "base_uri": "https://localhost:8080/"
        },
        "id": "5-1mNCRUA2lQ",
        "outputId": "84b350de-ccd9-42e7-92a7-7fe879d468c9"
      },
      "source": [
        "%%shell\n",
        "\n",
        "if [[ ! -d project-fox ]]; then\n",
        "    git clone https://github.com/firekind/project-fox --recurse-submodules &> /dev/null\n",
        "    echo \"Cloned repo.\"\n",
        "else\n",
        "    cd project-fox && git pull\n",
        "    echo \"Pulled repo.\"\n",
        "fi\n",
        "\n",
        "pip install --upgrade \\\n",
        "    git+http://github.com/firekind/athena \\\n",
        "    git+https://github.com/longcw/RoIAlign.pytorch \\\n",
        "    pytorch-lightning~=1.0.8 \\\n",
        "    &> /dev/null\n",
        "echo \"Downloaded dependencies.\""
      ],
      "execution_count": null,
      "outputs": [
        {
          "output_type": "stream",
          "text": [
            "Cloned repo.\n",
            "Downloaded dependencies.\n"
          ],
          "name": "stdout"
        },
        {
          "output_type": "execute_result",
          "data": {
            "text/plain": [
              ""
            ]
          },
          "metadata": {
            "tags": []
          },
          "execution_count": 1
        }
      ]
    },
    {
      "cell_type": "markdown",
      "metadata": {
        "id": "tsnnrD8lD75m"
      },
      "source": [
        "## Mounting drive, extracting dataset and weights"
      ]
    },
    {
      "cell_type": "code",
      "metadata": {
        "colab": {
          "base_uri": "https://localhost:8080/"
        },
        "id": "udAcgsNHCRiS",
        "outputId": "48e4af40-67c6-43fa-eef4-4359f0a124e1"
      },
      "source": [
        "from google.colab import drive\n",
        "drive.mount('/content/drive')"
      ],
      "execution_count": null,
      "outputs": [
        {
          "output_type": "stream",
          "text": [
            "Mounted at /content/drive\n"
          ],
          "name": "stdout"
        }
      ]
    },
    {
      "cell_type": "code",
      "metadata": {
        "colab": {
          "base_uri": "https://localhost:8080/"
        },
        "id": "Qf3_kA5oCkZn",
        "outputId": "c190f48f-7f4f-41d1-9940-9fa3d12c31cc"
      },
      "source": [
        "%%shell\n",
        "DATA_DIR=/content/project-fox/data\n",
        "if [[ ! -d $DATA_DIR ]]; then\n",
        "    mkdir $DATA_DIR\n",
        "    echo \"extracting dataset...\"\n",
        "    unzip \"/content/drive/My Drive/project-fox/data.zip\" -d $DATA_DIR &> /dev/null\n",
        "    echo \"done.\"\n",
        "else\n",
        "    echo \"dataset already extracted.\"\n",
        "fi"
      ],
      "execution_count": null,
      "outputs": [
        {
          "output_type": "stream",
          "text": [
            "extracting dataset...\n",
            "done.\n"
          ],
          "name": "stdout"
        },
        {
          "output_type": "execute_result",
          "data": {
            "text/plain": [
              ""
            ]
          },
          "metadata": {
            "tags": []
          },
          "execution_count": 3
        }
      ]
    },
    {
      "cell_type": "code",
      "metadata": {
        "colab": {
          "base_uri": "https://localhost:8080/"
        },
        "id": "Ju1Qr1YjDBg_",
        "outputId": "08d72185-0ffe-4aa9-e713-d9d19431b2fc"
      },
      "source": [
        "%%shell\n",
        "WEIGHTS_DIR=/content/project-fox/weights\n",
        "if [[ ! -d $WEIGHTS_DIR ]]; then\n",
        "    mkdir $WEIGHTS_DIR\n",
        "    echo \"extracting weights...\"\n",
        "    tar -xf \"/content/drive/My Drive/project-fox/weights.tar.gz\" -C $WEIGHTS_DIR &> /dev/null\n",
        "    echo \"done.\"\n",
        "else\n",
        "    echo \"weights already extracted.\"\n",
        "fi"
      ],
      "execution_count": null,
      "outputs": [
        {
          "output_type": "stream",
          "text": [
            "extracting weights...\n",
            "done.\n"
          ],
          "name": "stdout"
        },
        {
          "output_type": "execute_result",
          "data": {
            "text/plain": [
              ""
            ]
          },
          "metadata": {
            "tags": []
          },
          "execution_count": 4
        }
      ]
    },
    {
      "cell_type": "code",
      "metadata": {
        "id": "BYbjXj3lDrRe"
      },
      "source": [
        "import os\n",
        "os.chdir(\"/content/project-fox\")"
      ],
      "execution_count": null,
      "outputs": []
    },
    {
      "cell_type": "markdown",
      "metadata": {
        "id": "OSLH5RWpEOt9"
      },
      "source": [
        "## Training Yolo"
      ]
    },
    {
      "cell_type": "code",
      "metadata": {
        "id": "4QGFxc7OD3Dm"
      },
      "source": [
        "from fox.config import Config\n",
        "from fox.dataset import ComboDataset\n",
        "from fox.model import Model\n",
        "import torch\n",
        "import pytorch_lightning as pl\n",
        "from athena.utils.progbar import ProgbarCallback\n",
        "from fox.utils import parse_data_cfg\n",
        "from fox.yolov3.utils.datasets import LoadImagesAndLabels"
      ],
      "execution_count": null,
      "outputs": []
    },
    {
      "cell_type": "code",
      "metadata": {
        "colab": {
          "base_uri": "https://localhost:8080/"
        },
        "id": "0Vd8apcdEr8B",
        "outputId": "9c5a5457-e5d7-4373-8b9c-7f8257320fb5"
      },
      "source": [
        "config = Config(\n",
        "    USE_PLANERCNN=False,\n",
        "    DATA_DIR=\"data\",\n",
        "    IMG_SIZE=640,\n",
        "    MIN_IMG_SIZE=320,\n",
        "    BATCH_SIZE=10,\n",
        "    MIDAS_LOSS_WEIGHT=0,\n",
        "    YOLO_LOSS_WEIGHT=1,\n",
        "    EPOCHS=10\n",
        ")\n",
        "dataset = ComboDataset(config)\n",
        "val_dataset = ComboDataset(config, train=False)\n",
        "\n",
        "loader = torch.utils.data.DataLoader(\n",
        "    dataset,\n",
        "    batch_size=config.BATCH_SIZE,\n",
        "    shuffle=True,\n",
        "    collate_fn=dataset.collate_fn\n",
        ")\n",
        "loader_val = torch.utils.data.DataLoader(\n",
        "    val_dataset,\n",
        "    batch_size=config.BATCH_SIZE,\n",
        "    collate_fn=val_dataset.collate_fn\n",
        ")"
      ],
      "execution_count": null,
      "outputs": [
        {
          "output_type": "stream",
          "text": [
            "Caching labels data/yolo/labels.npy (3161 found, 0 missing, 42 empty, 0 duplicate, for 3203 images): 100%|██████████| 3203/3203 [00:00<00:00, 12814.76it/s]\n",
            "Caching labels data/yolo/labels.npy (311 found, 0 missing, 7 empty, 0 duplicate, for 318 images): 100%|██████████| 318/318 [00:00<00:00, 1208.17it/s]\n"
          ],
          "name": "stderr"
        }
      ]
    },
    {
      "cell_type": "code",
      "metadata": {
        "colab": {
          "base_uri": "https://localhost:8080/"
        },
        "id": "OHcMALcOGX7R",
        "outputId": "10e42f8c-4267-4e62-e661-6143385967ac"
      },
      "source": [
        "model = Model(config, len(loader), 4, dataset.yolo_dataset.yolo_labels)"
      ],
      "execution_count": null,
      "outputs": [
        {
          "output_type": "stream",
          "text": [
            "Loading weights:  weights/midas.pt\n"
          ],
          "name": "stdout"
        },
        {
          "output_type": "stream",
          "text": [
            "Using cache found in /root/.cache/torch/hub/facebookresearch_WSL-Images_master\n"
          ],
          "name": "stderr"
        },
        {
          "output_type": "stream",
          "text": [
            "Model Summary: 147 layers, 5.93877e+07 parameters, 5.93877e+07 gradients\n"
          ],
          "name": "stdout"
        }
      ]
    },
    {
      "cell_type": "code",
      "metadata": {
        "id": "WbGNGaw8Hvge"
      },
      "source": [
        "log_dir = \"/content/drive/My Drive/project-fox/logs\"\n",
        "name = \"Yolo-only-img-320-640\"\n",
        "tensorboard_logger = pl.loggers.TensorBoardLogger(\n",
        "    log_dir, name=\"\", version=name, default_hp_metric=False\n",
        ")\n",
        "checkpoint_callback = pl.callbacks.ModelCheckpoint(\n",
        "    filepath=os.path.join(\n",
        "        log_dir, \n",
        "        name,\n",
        "        \"checkpoints\",\n",
        "        \"last\",\n",
        "    ),\n",
        ")"
      ],
      "execution_count": null,
      "outputs": []
    },
    {
      "cell_type": "code",
      "metadata": {
        "colab": {
          "base_uri": "https://localhost:8080/",
          "height": 821
        },
        "id": "Y_yxEVWsKSlf",
        "outputId": "ff588335-64d2-457c-bd87-1b58db2082ed"
      },
      "source": [
        "%tensorboard --logdir \"/content/drive/My Drive/project-fox/logs\""
      ],
      "execution_count": null,
      "outputs": []
    },
    {
      "cell_type": "code",
      "metadata": {
        "colab": {
          "base_uri": "https://localhost:8080/"
        },
        "id": "sQJV_JQpGtlV",
        "outputId": "bd19f5ed-1777-4a36-adcf-6ca6bdab82f8"
      },
      "source": [
        "pl.seed_everything(0)\n",
        "trainer = pl.Trainer(\n",
        "    max_epochs=config.EPOCHS,\n",
        "    gpus=1,\n",
        "    logger=tensorboard_logger,\n",
        "    checkpoint_callback=checkpoint_callback,\n",
        "    callbacks=[ProgbarCallback()],\n",
        "    progress_bar_refresh_rate=20,\n",
        "    automatic_optimization=False\n",
        ")\n",
        "\n",
        "trainer.fit(\n",
        "    model,\n",
        "    train_dataloader=loader,\n",
        "    val_dataloaders=loader_val\n",
        ")"
      ],
      "execution_count": null,
      "outputs": [
        {
          "output_type": "stream",
          "text": [
            "Epoch: 1 / 10\n",
            "321/321 [==============================] - 1094s 3s/step - total loss: 0.6878 - midas loss: 3321.7585 - yolo loss: 0.6878\n",
            "Validation set: avg yolo val loss: 5.5626, yolo mAP: 0.4911, avg yolo loss: 0.8946, avg midas loss: 3683.1284, avg total loss: 0.8946\n",
            "\n",
            "Epoch: 2 / 10\n",
            "321/321 [==============================] - 1079s 3s/step - total loss: 0.6102 - midas loss: 4040.0371 - yolo loss: 0.6102\n",
            "Validation set: avg yolo val loss: 5.5213, yolo mAP: 0.5016, avg yolo loss: 0.7407, avg midas loss: 3687.0597, avg total loss: 0.7407\n",
            "\n",
            "Epoch: 3 / 10\n",
            "321/321 [==============================] - 1078s 3s/step - total loss: 0.4105 - midas loss: 2760.3875 - yolo loss: 0.4105\n",
            "Validation set: avg yolo val loss: 5.9675, yolo mAP: 0.4022, avg yolo loss: 0.6831, avg midas loss: 3683.4561, avg total loss: 0.6831\n",
            "\n",
            "Epoch: 4 / 10\n",
            "321/321 [==============================] - 1079s 3s/step - total loss: 0.3282 - midas loss: 3794.2798 - yolo loss: 0.3282\n",
            "Validation set: avg yolo val loss: 5.5015, yolo mAP: 0.5285, avg yolo loss: 0.6350, avg midas loss: 3688.5775, avg total loss: 0.6350\n",
            "\n",
            "Epoch: 5 / 10\n",
            "321/321 [==============================] - 1079s 3s/step - total loss: 0.4944 - midas loss: 4212.5503 - yolo loss: 0.4944\n",
            "Validation set: avg yolo val loss: 5.9646, yolo mAP: 0.4501, avg yolo loss: 0.6031, avg midas loss: 3692.1846, avg total loss: 0.6031\n",
            "\n",
            "Epoch: 6 / 10\n",
            "321/321 [==============================] - 1077s 3s/step - total loss: 0.6002 - midas loss: 3877.3574 - yolo loss: 0.6002\n",
            "Validation set: avg yolo val loss: 5.4038, yolo mAP: 0.5204, avg yolo loss: 0.5660, avg midas loss: 3690.4208, avg total loss: 0.5660\n",
            "\n",
            "Epoch: 7 / 10\n",
            "321/321 [==============================] - 1075s 3s/step - total loss: 0.4756 - midas loss: 4399.5625 - yolo loss: 0.4756\n",
            "Validation set: avg yolo val loss: 5.5190, yolo mAP: 0.5406, avg yolo loss: 0.5388, avg midas loss: 3692.6599, avg total loss: 0.5388\n",
            "\n",
            "Epoch: 8 / 10\n",
            "321/321 [==============================] - 1085s 3s/step - total loss: 0.4651 - midas loss: 3253.7869 - yolo loss: 0.4651\n",
            "Validation set: avg yolo val loss: 5.7104, yolo mAP: 0.5229, avg yolo loss: 0.5173, avg midas loss: 3694.5161, avg total loss: 0.5173\n",
            "\n",
            "Epoch: 9 / 10\n",
            "321/321 [==============================] - 1074s 3s/step - total loss: 0.4929 - midas loss: 3838.3943 - yolo loss: 0.4929\n",
            "Validation set: avg yolo val loss: 5.7434, yolo mAP: 0.5008, avg yolo loss: 0.5032, avg midas loss: 3692.1776, avg total loss: 0.5032\n",
            "\n",
            "Epoch: 10 / 10\n",
            "321/321 [==============================] - 1074s 3s/step - total loss: 0.3351 - midas loss: 3352.0864 - yolo loss: 0.3351\n",
            "Validation set: avg yolo val loss: 6.0341, yolo mAP: 0.5026, avg yolo loss: 0.4694, avg midas loss: 3685.2931, avg total loss: 0.4694\n",
            "\n"
          ],
          "name": "stdout"
        },
        {
          "output_type": "execute_result",
          "data": {
            "text/plain": [
              "1"
            ]
          },
          "metadata": {
            "tags": []
          },
          "execution_count": 12
        }
      ]
    },
    {
      "cell_type": "code",
      "metadata": {
        "id": "GFSMf0ElakHF"
      },
      "source": [
        ""
      ],
      "execution_count": null,
      "outputs": []
    }
  ]
}