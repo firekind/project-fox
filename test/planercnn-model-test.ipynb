{
 "metadata": {
  "language_info": {
   "codemirror_mode": {
    "name": "ipython",
    "version": 3
   },
   "file_extension": ".py",
   "mimetype": "text/x-python",
   "name": "python",
   "nbconvert_exporter": "python",
   "pygments_lexer": "ipython3",
   "version": "3.6.12-final"
  },
  "orig_nbformat": 2,
  "kernelspec": {
   "name": "python3",
   "display_name": "Python 3"
  }
 },
 "nbformat": 4,
 "nbformat_minor": 2,
 "cells": [
  {
   "cell_type": "code",
   "execution_count": 1,
   "metadata": {},
   "outputs": [],
   "source": [
    "import os\n",
    "os.chdir(\"..\")"
   ]
  },
  {
   "cell_type": "code",
   "execution_count": 2,
   "metadata": {},
   "outputs": [],
   "source": [
    "import torch\n",
    "import re\n",
    "from fox.planercnn.models.model import MaskRCNN\n",
    "from fox.config import PlaneRCNNConfig\n",
    "from fox.utils import extract_weights_from_checkpoint\n",
    "from torchsummary import summary"
   ]
  },
  {
   "cell_type": "code",
   "execution_count": 3,
   "metadata": {},
   "outputs": [],
   "source": [
    "model = MaskRCNN(PlaneRCNNConfig())"
   ]
  },
  {
   "cell_type": "code",
   "execution_count": 4,
   "metadata": {},
   "outputs": [
    {
     "output_type": "execute_result",
     "data": {
      "text/plain": [
       "<All keys matched successfully>"
      ]
     },
     "metadata": {},
     "execution_count": 4
    }
   ],
   "source": [
    "extract_weights_from_checkpoint(\n",
    "    'weights/planercnn/checkpoint.pth',\n",
    "    'weights/planercnn/checkpoint-partial.pth',\n",
    "    regex='fpn.C[12345].*',\n",
    "    exclude_matched=True\n",
    ")\n",
    "data = torch.load('weights/planercnn/checkpoint-partial.pth')\n",
    "model.load_state_dict(data, strict=False)"
   ]
  },
  {
   "cell_type": "code",
   "execution_count": 5,
   "metadata": {},
   "outputs": [
    {
     "output_type": "execute_result",
     "data": {
      "text/plain": [
       "dict_keys(['fpn.P5_conv1.weight', 'fpn.P5_conv1.bias', 'fpn.P5_conv2.1.weight', 'fpn.P5_conv2.1.bias', 'fpn.P4_conv1.weight', 'fpn.P4_conv1.bias', 'fpn.P4_conv2.1.weight', 'fpn.P4_conv2.1.bias', 'fpn.P3_conv1.weight', 'fpn.P3_conv1.bias', 'fpn.P3_conv2.1.weight', 'fpn.P3_conv2.1.bias', 'fpn.P2_conv1.weight', 'fpn.P2_conv1.bias', 'fpn.P2_conv2.1.weight', 'fpn.P2_conv2.1.bias', 'rpn.conv_shared.weight', 'rpn.conv_shared.bias', 'rpn.conv_class.weight', 'rpn.conv_class.bias', 'rpn.conv_bbox.weight', 'rpn.conv_bbox.bias', 'coordinates.weight', 'coordinates.bias', 'classifier.conv1.weight', 'classifier.conv1.bias', 'classifier.bn1.weight', 'classifier.bn1.bias', 'classifier.bn1.running_mean', 'classifier.bn1.running_var', 'classifier.bn1.num_batches_tracked', 'classifier.conv2.weight', 'classifier.conv2.bias', 'classifier.bn2.weight', 'classifier.bn2.bias', 'classifier.bn2.running_mean', 'classifier.bn2.running_var', 'classifier.bn2.num_batches_tracked', 'classifier.linear_class.weight', 'classifier.linear_class.bias', 'classifier.linear_bbox.weight', 'classifier.linear_bbox.bias', 'classifier.linear_parameters.weight', 'classifier.linear_parameters.bias', 'mask.conv1.weight', 'mask.conv1.bias', 'mask.bn1.weight', 'mask.bn1.bias', 'mask.bn1.running_mean', 'mask.bn1.running_var', 'mask.bn1.num_batches_tracked', 'mask.conv2.weight', 'mask.conv2.bias', 'mask.bn2.weight', 'mask.bn2.bias', 'mask.bn2.running_mean', 'mask.bn2.running_var', 'mask.bn2.num_batches_tracked', 'mask.conv3.weight', 'mask.conv3.bias', 'mask.bn3.weight', 'mask.bn3.bias', 'mask.bn3.running_mean', 'mask.bn3.running_var', 'mask.bn3.num_batches_tracked', 'mask.conv4.weight', 'mask.conv4.bias', 'mask.bn4.weight', 'mask.bn4.bias', 'mask.bn4.running_mean', 'mask.bn4.running_var', 'mask.bn4.num_batches_tracked', 'mask.deconv.weight', 'mask.deconv.bias', 'mask.conv5.weight', 'mask.conv5.bias', 'depth.conv1.0.weight', 'depth.conv1.0.bias', 'depth.conv1.1.weight', 'depth.conv1.1.bias', 'depth.conv1.1.running_mean', 'depth.conv1.1.running_var', 'depth.conv1.1.num_batches_tracked', 'depth.conv2.0.weight', 'depth.conv2.0.bias', 'depth.conv2.1.weight', 'depth.conv2.1.bias', 'depth.conv2.1.running_mean', 'depth.conv2.1.running_var', 'depth.conv2.1.num_batches_tracked', 'depth.conv3.0.weight', 'depth.conv3.0.bias', 'depth.conv3.1.weight', 'depth.conv3.1.bias', 'depth.conv3.1.running_mean', 'depth.conv3.1.running_var', 'depth.conv3.1.num_batches_tracked', 'depth.conv4.0.weight', 'depth.conv4.0.bias', 'depth.conv4.1.weight', 'depth.conv4.1.bias', 'depth.conv4.1.running_mean', 'depth.conv4.1.running_var', 'depth.conv4.1.num_batches_tracked', 'depth.conv5.0.weight', 'depth.conv5.0.bias', 'depth.conv5.1.weight', 'depth.conv5.1.bias', 'depth.conv5.1.running_mean', 'depth.conv5.1.running_var', 'depth.conv5.1.num_batches_tracked', 'depth.deconv1.1.weight', 'depth.deconv1.1.bias', 'depth.deconv1.2.weight', 'depth.deconv1.2.bias', 'depth.deconv1.2.running_mean', 'depth.deconv1.2.running_var', 'depth.deconv1.2.num_batches_tracked', 'depth.deconv2.1.weight', 'depth.deconv2.1.bias', 'depth.deconv2.2.weight', 'depth.deconv2.2.bias', 'depth.deconv2.2.running_mean', 'depth.deconv2.2.running_var', 'depth.deconv2.2.num_batches_tracked', 'depth.deconv3.1.weight', 'depth.deconv3.1.bias', 'depth.deconv3.2.weight', 'depth.deconv3.2.bias', 'depth.deconv3.2.running_mean', 'depth.deconv3.2.running_var', 'depth.deconv3.2.num_batches_tracked', 'depth.deconv4.1.weight', 'depth.deconv4.1.bias', 'depth.deconv4.2.weight', 'depth.deconv4.2.bias', 'depth.deconv4.2.running_mean', 'depth.deconv4.2.running_var', 'depth.deconv4.2.num_batches_tracked', 'depth.deconv5.1.weight', 'depth.deconv5.1.bias', 'depth.deconv5.2.weight', 'depth.deconv5.2.bias', 'depth.deconv5.2.running_mean', 'depth.deconv5.2.running_var', 'depth.deconv5.2.num_batches_tracked', 'depth.depth_pred.weight', 'depth.depth_pred.bias'])"
      ]
     },
     "metadata": {},
     "execution_count": 5
    }
   ],
   "source": [
    "data.keys()"
   ]
  },
  {
   "cell_type": "code",
   "execution_count": null,
   "metadata": {},
   "outputs": [],
   "source": []
  }
 ]
}