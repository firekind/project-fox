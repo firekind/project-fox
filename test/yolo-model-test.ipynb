{
 "metadata": {
  "language_info": {
   "codemirror_mode": {
    "name": "ipython",
    "version": 3
   },
   "file_extension": ".py",
   "mimetype": "text/x-python",
   "name": "python",
   "nbconvert_exporter": "python",
   "pygments_lexer": "ipython3",
   "version": "3.6.12-final"
  },
  "orig_nbformat": 2,
  "kernelspec": {
   "name": "Python 3.6.12 64-bit ('eva5-final': conda)",
   "display_name": "Python 3.6.12 64-bit ('eva5-final': conda)",
   "metadata": {
    "interpreter": {
     "hash": "d0e872189ea5a867a284e192128f43c8754cb65c066db4deb90758c40a9d7766"
    }
   }
  }
 },
 "nbformat": 4,
 "nbformat_minor": 2,
 "cells": [
  {
   "cell_type": "code",
   "execution_count": 1,
   "metadata": {},
   "outputs": [],
   "source": [
    "import os\n",
    "os.chdir(\"..\")"
   ]
  },
  {
   "cell_type": "code",
   "execution_count": 2,
   "metadata": {},
   "outputs": [],
   "source": [
    "import torch\n",
    "import torch.nn as nn\n",
    "from fox.yolov3.models import Darknet\n",
    "from fox.yolov3.utils.parse_config import parse_model_cfg\n",
    "from fox.yolov3.models import create_modules\n",
    "from fox.utils import extract_weights_from_model\n",
    "from torchsummary import summary"
   ]
  },
  {
   "cell_type": "code",
   "execution_count": 3,
   "metadata": {},
   "outputs": [],
   "source": [
    "class Head(torch.nn.Module):\n",
    "    def __init__(self, config):\n",
    "        super(Head, self).__init__()\n",
    "        module_defs = parse_model_cfg(config)\n",
    "        self.module_list, self.routs = create_modules(module_defs, (416, 416), config)\n",
    "\n",
    "    def forward(self, x):\n",
    "        out = []\n",
    "        orig_inp = x\n",
    "        for i, module in enumerate(self.module_list):\n",
    "            name = module.__class__.__name__\n",
    "            if name == 'WeightedFeatureFusion':\n",
    "                x = module(x, out, orig_inp)\n",
    "            elif name == 'FeatureConcat':\n",
    "                x = module(x, out)\n",
    "            else:\n",
    "                x = module(x)\n",
    "\n",
    "            out.append(x if self.routs[i] else [])\n",
    "\n",
    "        return x\n",
    "\n"
   ]
  },
  {
   "cell_type": "code",
   "execution_count": 4,
   "metadata": {},
   "outputs": [],
   "source": [
    "head = Head(\"config/yolov3-head.cfg\")"
   ]
  },
  {
   "cell_type": "code",
   "execution_count": 29,
   "metadata": {},
   "outputs": [
    {
     "output_type": "stream",
     "name": "stdout",
     "text": [
      "----------------------------------------------------------------\n        Layer (type)               Output Shape         Param #\n================================================================\n            Conv2d-1          [-1, 512, 52, 52]       2,359,296\n       BatchNorm2d-2          [-1, 512, 52, 52]           1,024\n         LeakyReLU-3          [-1, 512, 52, 52]               0\n            Conv2d-4          [-1, 256, 52, 52]         131,072\n       BatchNorm2d-5          [-1, 256, 52, 52]             512\n         LeakyReLU-6          [-1, 256, 52, 52]               0\n            Conv2d-7          [-1, 512, 52, 52]       1,179,648\n       BatchNorm2d-8          [-1, 512, 52, 52]           1,024\n         LeakyReLU-9          [-1, 512, 52, 52]               0\nWeightedFeatureFusion-10          [-1, 512, 52, 52]               0\n           Conv2d-11          [-1, 256, 52, 52]         131,072\n      BatchNorm2d-12          [-1, 256, 52, 52]             512\n        LeakyReLU-13          [-1, 256, 52, 52]               0\n           Conv2d-14          [-1, 512, 52, 52]       1,179,648\n      BatchNorm2d-15          [-1, 512, 52, 52]           1,024\n        LeakyReLU-16          [-1, 512, 52, 52]               0\nWeightedFeatureFusion-17          [-1, 512, 52, 52]               0\n           Conv2d-18          [-1, 256, 52, 52]         131,072\n      BatchNorm2d-19          [-1, 256, 52, 52]             512\n        LeakyReLU-20          [-1, 256, 52, 52]               0\n================================================================\nTotal params: 5,116,416\nTrainable params: 5,116,416\nNon-trainable params: 0\n----------------------------------------------------------------\nInput size (MB): 5.28\nForward/backward pass size (MB): 163.72\nParams size (MB): 19.52\nEstimated Total Size (MB): 188.52\n----------------------------------------------------------------\n"
     ]
    }
   ],
   "source": [
    "summary(head.cuda(), (512, 52, 52))"
   ]
  },
  {
   "cell_type": "code",
   "execution_count": 3,
   "metadata": {},
   "outputs": [
    {
     "output_type": "stream",
     "name": "stdout",
     "text": [
      "Model Summary: 225 layers, 6.25895e+07 parameters, 6.25895e+07 gradients\n"
     ]
    },
    {
     "output_type": "execute_result",
     "data": {
      "text/plain": [
       "<All keys matched successfully>"
      ]
     },
     "metadata": {},
     "execution_count": 3
    }
   ],
   "source": [
    "pretrained_model = Darknet(\"config/yolov3-orig.cfg\").to(\"cuda\")\n",
    "pretrained_data = torch.load(\"weights/yolo.pt\")\n",
    "pretrained_model.load_state_dict(pretrained_data[\"model\"])"
   ]
  },
  {
   "cell_type": "code",
   "execution_count": 4,
   "metadata": {},
   "outputs": [],
   "source": [
    "extract_weights_from_model(pretrained_model, 36, \"weights/yolo-detector.pt\")"
   ]
  },
  {
   "cell_type": "code",
   "execution_count": 5,
   "metadata": {},
   "outputs": [
    {
     "output_type": "stream",
     "name": "stdout",
     "text": [
      "Model Summary: 147 layers, 5.93877e+07 parameters, 5.93877e+07 gradients\n"
     ]
    },
    {
     "output_type": "execute_result",
     "data": {
      "text/plain": [
       "<All keys matched successfully>"
      ]
     },
     "metadata": {},
     "execution_count": 5
    }
   ],
   "source": [
    "model = Darknet(\"config/yolov3-spp-detector.cfg\").to(\"cuda\")\n",
    "data = torch.load(\"weights/yolo-detector.pt\")\n",
    "model.load_state_dict(data['model'], strict=False)"
   ]
  },
  {
   "cell_type": "code",
   "execution_count": 6,
   "metadata": {},
   "outputs": [
    {
     "output_type": "stream",
     "name": "stdout",
     "text": [
      "yay\n",
      "----------------------------------------------------------------\n",
      "        Layer (type)               Output Shape         Param #\n",
      "================================================================\n",
      "WeightedFeatureFusion-1          [-1, 256, 52, 52]               0\n",
      "            Conv2d-2          [-1, 512, 26, 26]       1,179,648\n",
      "       BatchNorm2d-3          [-1, 512, 26, 26]           1,024\n",
      "         LeakyReLU-4          [-1, 512, 26, 26]               0\n",
      "            Conv2d-5          [-1, 256, 26, 26]         131,072\n",
      "       BatchNorm2d-6          [-1, 256, 26, 26]             512\n",
      "         LeakyReLU-7          [-1, 256, 26, 26]               0\n",
      "            Conv2d-8          [-1, 512, 26, 26]       1,179,648\n",
      "       BatchNorm2d-9          [-1, 512, 26, 26]           1,024\n",
      "        LeakyReLU-10          [-1, 512, 26, 26]               0\n",
      "WeightedFeatureFusion-11          [-1, 512, 26, 26]               0\n",
      "           Conv2d-12          [-1, 256, 26, 26]         131,072\n",
      "      BatchNorm2d-13          [-1, 256, 26, 26]             512\n",
      "        LeakyReLU-14          [-1, 256, 26, 26]               0\n",
      "           Conv2d-15          [-1, 512, 26, 26]       1,179,648\n",
      "      BatchNorm2d-16          [-1, 512, 26, 26]           1,024\n",
      "        LeakyReLU-17          [-1, 512, 26, 26]               0\n",
      "WeightedFeatureFusion-18          [-1, 512, 26, 26]               0\n",
      "           Conv2d-19          [-1, 256, 26, 26]         131,072\n",
      "      BatchNorm2d-20          [-1, 256, 26, 26]             512\n",
      "        LeakyReLU-21          [-1, 256, 26, 26]               0\n",
      "           Conv2d-22          [-1, 512, 26, 26]       1,179,648\n",
      "      BatchNorm2d-23          [-1, 512, 26, 26]           1,024\n",
      "        LeakyReLU-24          [-1, 512, 26, 26]               0\n",
      "WeightedFeatureFusion-25          [-1, 512, 26, 26]               0\n",
      "           Conv2d-26          [-1, 256, 26, 26]         131,072\n",
      "      BatchNorm2d-27          [-1, 256, 26, 26]             512\n",
      "        LeakyReLU-28          [-1, 256, 26, 26]               0\n",
      "           Conv2d-29          [-1, 512, 26, 26]       1,179,648\n",
      "      BatchNorm2d-30          [-1, 512, 26, 26]           1,024\n",
      "        LeakyReLU-31          [-1, 512, 26, 26]               0\n",
      "WeightedFeatureFusion-32          [-1, 512, 26, 26]               0\n",
      "           Conv2d-33          [-1, 256, 26, 26]         131,072\n",
      "      BatchNorm2d-34          [-1, 256, 26, 26]             512\n",
      "        LeakyReLU-35          [-1, 256, 26, 26]               0\n",
      "           Conv2d-36          [-1, 512, 26, 26]       1,179,648\n",
      "      BatchNorm2d-37          [-1, 512, 26, 26]           1,024\n",
      "        LeakyReLU-38          [-1, 512, 26, 26]               0\n",
      "WeightedFeatureFusion-39          [-1, 512, 26, 26]               0\n",
      "           Conv2d-40          [-1, 256, 26, 26]         131,072\n",
      "      BatchNorm2d-41          [-1, 256, 26, 26]             512\n",
      "        LeakyReLU-42          [-1, 256, 26, 26]               0\n",
      "           Conv2d-43          [-1, 512, 26, 26]       1,179,648\n",
      "      BatchNorm2d-44          [-1, 512, 26, 26]           1,024\n",
      "        LeakyReLU-45          [-1, 512, 26, 26]               0\n",
      "WeightedFeatureFusion-46          [-1, 512, 26, 26]               0\n",
      "           Conv2d-47          [-1, 256, 26, 26]         131,072\n",
      "      BatchNorm2d-48          [-1, 256, 26, 26]             512\n",
      "        LeakyReLU-49          [-1, 256, 26, 26]               0\n",
      "           Conv2d-50          [-1, 512, 26, 26]       1,179,648\n",
      "      BatchNorm2d-51          [-1, 512, 26, 26]           1,024\n",
      "        LeakyReLU-52          [-1, 512, 26, 26]               0\n",
      "WeightedFeatureFusion-53          [-1, 512, 26, 26]               0\n",
      "           Conv2d-54          [-1, 256, 26, 26]         131,072\n",
      "      BatchNorm2d-55          [-1, 256, 26, 26]             512\n",
      "        LeakyReLU-56          [-1, 256, 26, 26]               0\n",
      "           Conv2d-57          [-1, 512, 26, 26]       1,179,648\n",
      "      BatchNorm2d-58          [-1, 512, 26, 26]           1,024\n",
      "        LeakyReLU-59          [-1, 512, 26, 26]               0\n",
      "WeightedFeatureFusion-60          [-1, 512, 26, 26]               0\n",
      "           Conv2d-61         [-1, 1024, 13, 13]       4,718,592\n",
      "      BatchNorm2d-62         [-1, 1024, 13, 13]           2,048\n",
      "        LeakyReLU-63         [-1, 1024, 13, 13]               0\n",
      "           Conv2d-64          [-1, 512, 13, 13]         524,288\n",
      "      BatchNorm2d-65          [-1, 512, 13, 13]           1,024\n",
      "        LeakyReLU-66          [-1, 512, 13, 13]               0\n",
      "           Conv2d-67         [-1, 1024, 13, 13]       4,718,592\n",
      "      BatchNorm2d-68         [-1, 1024, 13, 13]           2,048\n",
      "        LeakyReLU-69         [-1, 1024, 13, 13]               0\n",
      "WeightedFeatureFusion-70         [-1, 1024, 13, 13]               0\n",
      "           Conv2d-71          [-1, 512, 13, 13]         524,288\n",
      "      BatchNorm2d-72          [-1, 512, 13, 13]           1,024\n",
      "        LeakyReLU-73          [-1, 512, 13, 13]               0\n",
      "           Conv2d-74         [-1, 1024, 13, 13]       4,718,592\n",
      "      BatchNorm2d-75         [-1, 1024, 13, 13]           2,048\n",
      "        LeakyReLU-76         [-1, 1024, 13, 13]               0\n",
      "WeightedFeatureFusion-77         [-1, 1024, 13, 13]               0\n",
      "           Conv2d-78          [-1, 512, 13, 13]         524,288\n",
      "      BatchNorm2d-79          [-1, 512, 13, 13]           1,024\n",
      "        LeakyReLU-80          [-1, 512, 13, 13]               0\n",
      "           Conv2d-81         [-1, 1024, 13, 13]       4,718,592\n",
      "      BatchNorm2d-82         [-1, 1024, 13, 13]           2,048\n",
      "        LeakyReLU-83         [-1, 1024, 13, 13]               0\n",
      "WeightedFeatureFusion-84         [-1, 1024, 13, 13]               0\n",
      "           Conv2d-85          [-1, 512, 13, 13]         524,288\n",
      "      BatchNorm2d-86          [-1, 512, 13, 13]           1,024\n",
      "        LeakyReLU-87          [-1, 512, 13, 13]               0\n",
      "           Conv2d-88         [-1, 1024, 13, 13]       4,718,592\n",
      "      BatchNorm2d-89         [-1, 1024, 13, 13]           2,048\n",
      "        LeakyReLU-90         [-1, 1024, 13, 13]               0\n",
      "WeightedFeatureFusion-91         [-1, 1024, 13, 13]               0\n",
      "           Conv2d-92          [-1, 512, 13, 13]         524,288\n",
      "      BatchNorm2d-93          [-1, 512, 13, 13]           1,024\n",
      "        LeakyReLU-94          [-1, 512, 13, 13]               0\n",
      "           Conv2d-95         [-1, 1024, 13, 13]       4,718,592\n",
      "      BatchNorm2d-96         [-1, 1024, 13, 13]           2,048\n",
      "        LeakyReLU-97         [-1, 1024, 13, 13]               0\n",
      "           Conv2d-98          [-1, 512, 13, 13]         524,288\n",
      "      BatchNorm2d-99          [-1, 512, 13, 13]           1,024\n",
      "       LeakyReLU-100          [-1, 512, 13, 13]               0\n",
      "       MaxPool2d-101          [-1, 512, 13, 13]               0\n",
      "   FeatureConcat-102          [-1, 512, 13, 13]               0\n",
      "       MaxPool2d-103          [-1, 512, 13, 13]               0\n",
      "   FeatureConcat-104          [-1, 512, 13, 13]               0\n",
      "       MaxPool2d-105          [-1, 512, 13, 13]               0\n",
      "   FeatureConcat-106         [-1, 2048, 13, 13]               0\n",
      "          Conv2d-107          [-1, 512, 13, 13]       1,048,576\n",
      "     BatchNorm2d-108          [-1, 512, 13, 13]           1,024\n",
      "       LeakyReLU-109          [-1, 512, 13, 13]               0\n",
      "          Conv2d-110         [-1, 1024, 13, 13]       4,718,592\n",
      "     BatchNorm2d-111         [-1, 1024, 13, 13]           2,048\n",
      "       LeakyReLU-112         [-1, 1024, 13, 13]               0\n",
      "          Conv2d-113          [-1, 512, 13, 13]         524,288\n",
      "     BatchNorm2d-114          [-1, 512, 13, 13]           1,024\n",
      "       LeakyReLU-115          [-1, 512, 13, 13]               0\n",
      "          Conv2d-116         [-1, 1024, 13, 13]       4,718,592\n",
      "     BatchNorm2d-117         [-1, 1024, 13, 13]           2,048\n",
      "       LeakyReLU-118         [-1, 1024, 13, 13]               0\n",
      "          Conv2d-119           [-1, 27, 13, 13]          27,675\n",
      "       YOLOLayer-120         [-1, 3, 13, 13, 9]               0\n",
      "   FeatureConcat-121          [-1, 512, 13, 13]               0\n",
      "          Conv2d-122          [-1, 256, 13, 13]         131,072\n",
      "     BatchNorm2d-123          [-1, 256, 13, 13]             512\n",
      "       LeakyReLU-124          [-1, 256, 13, 13]               0\n",
      "        Upsample-125          [-1, 256, 26, 26]               0\n",
      "   FeatureConcat-126          [-1, 768, 26, 26]               0\n",
      "          Conv2d-127          [-1, 256, 26, 26]         196,608\n",
      "     BatchNorm2d-128          [-1, 256, 26, 26]             512\n",
      "       LeakyReLU-129          [-1, 256, 26, 26]               0\n",
      "          Conv2d-130          [-1, 512, 26, 26]       1,179,648\n",
      "     BatchNorm2d-131          [-1, 512, 26, 26]           1,024\n",
      "       LeakyReLU-132          [-1, 512, 26, 26]               0\n",
      "          Conv2d-133          [-1, 256, 26, 26]         131,072\n",
      "     BatchNorm2d-134          [-1, 256, 26, 26]             512\n",
      "       LeakyReLU-135          [-1, 256, 26, 26]               0\n",
      "          Conv2d-136          [-1, 512, 26, 26]       1,179,648\n",
      "     BatchNorm2d-137          [-1, 512, 26, 26]           1,024\n",
      "       LeakyReLU-138          [-1, 512, 26, 26]               0\n",
      "          Conv2d-139          [-1, 256, 26, 26]         131,072\n",
      "     BatchNorm2d-140          [-1, 256, 26, 26]             512\n",
      "       LeakyReLU-141          [-1, 256, 26, 26]               0\n",
      "          Conv2d-142          [-1, 512, 26, 26]       1,179,648\n",
      "     BatchNorm2d-143          [-1, 512, 26, 26]           1,024\n",
      "       LeakyReLU-144          [-1, 512, 26, 26]               0\n",
      "          Conv2d-145           [-1, 27, 26, 26]          13,851\n",
      "       YOLOLayer-146         [-1, 3, 26, 26, 9]               0\n",
      "   FeatureConcat-147          [-1, 256, 26, 26]               0\n",
      "          Conv2d-148          [-1, 128, 26, 26]          32,768\n",
      "     BatchNorm2d-149          [-1, 128, 26, 26]             256\n",
      "       LeakyReLU-150          [-1, 128, 26, 26]               0\n",
      "        Upsample-151          [-1, 128, 52, 52]               0\n",
      "   FeatureConcat-152          [-1, 384, 52, 52]               0\n",
      "          Conv2d-153          [-1, 128, 52, 52]          49,152\n",
      "     BatchNorm2d-154          [-1, 128, 52, 52]             256\n",
      "       LeakyReLU-155          [-1, 128, 52, 52]               0\n",
      "          Conv2d-156          [-1, 256, 52, 52]         294,912\n",
      "     BatchNorm2d-157          [-1, 256, 52, 52]             512\n",
      "       LeakyReLU-158          [-1, 256, 52, 52]               0\n",
      "          Conv2d-159          [-1, 128, 52, 52]          32,768\n",
      "     BatchNorm2d-160          [-1, 128, 52, 52]             256\n",
      "       LeakyReLU-161          [-1, 128, 52, 52]               0\n",
      "          Conv2d-162          [-1, 256, 52, 52]         294,912\n",
      "     BatchNorm2d-163          [-1, 256, 52, 52]             512\n",
      "       LeakyReLU-164          [-1, 256, 52, 52]               0\n",
      "          Conv2d-165          [-1, 128, 52, 52]          32,768\n",
      "     BatchNorm2d-166          [-1, 128, 52, 52]             256\n",
      "       LeakyReLU-167          [-1, 128, 52, 52]               0\n",
      "          Conv2d-168          [-1, 256, 52, 52]         294,912\n",
      "     BatchNorm2d-169          [-1, 256, 52, 52]             512\n",
      "       LeakyReLU-170          [-1, 256, 52, 52]               0\n",
      "          Conv2d-171           [-1, 27, 52, 52]           6,939\n",
      "       YOLOLayer-172         [-1, 3, 52, 52, 9]               0\n",
      "================================================================\n",
      "Total params: 59,387,729\n",
      "Trainable params: 59,387,729\n",
      "Non-trainable params: 0\n",
      "----------------------------------------------------------------\n",
      "Input size (MB): 3655808.00\n",
      "Forward/backward pass size (MB): 317.35\n",
      "Params size (MB): 226.55\n",
      "Estimated Total Size (MB): 3656351.89\n",
      "----------------------------------------------------------------\n"
     ]
    }
   ],
   "source": [
    "summary(model, [(256, 52, 52), (512, 52, 52)])"
   ]
  },
  {
   "cell_type": "code",
   "execution_count": null,
   "metadata": {},
   "outputs": [],
   "source": []
  }
 ]
}