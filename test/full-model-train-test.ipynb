{
 "metadata": {
  "language_info": {
   "codemirror_mode": {
    "name": "ipython",
    "version": 3
   },
   "file_extension": ".py",
   "mimetype": "text/x-python",
   "name": "python",
   "nbconvert_exporter": "python",
   "pygments_lexer": "ipython3",
   "version": "3.6.12-final"
  },
  "orig_nbformat": 2,
  "kernelspec": {
   "name": "python3",
   "display_name": "Python 3"
  }
 },
 "nbformat": 4,
 "nbformat_minor": 2,
 "cells": [
  {
   "cell_type": "code",
   "execution_count": 1,
   "metadata": {},
   "outputs": [],
   "source": [
    "import os\n",
    "os.chdir('..')"
   ]
  },
  {
   "cell_type": "code",
   "execution_count": 2,
   "metadata": {},
   "outputs": [],
   "source": [
    "from fox.config import Config, PlaneRCNNConfig\n",
    "from fox.dataset import ComboDataset, PlaneRCNNDataset, MidasDataset\n",
    "from fox.model import Model\n",
    "import matplotlib.pyplot as plt\n",
    "import torch\n",
    "import pytorch_lightning as pl"
   ]
  },
  {
   "cell_type": "code",
   "execution_count": 3,
   "metadata": {},
   "outputs": [
    {
     "output_type": "stream",
     "name": "stderr",
     "text": [
      "Caching labels data/mini/yolo/train.txt (64 found, 0 missing, 0 empty, 0 duplicate, for 64 images): 100%|██████████| 64/64 [00:00<00:00, 1836.05it/s]\n",
      "Caching labels data/mini/yolo/test.txt (5 found, 0 missing, 0 empty, 0 duplicate, for 5 images): 100%|██████████| 5/5 [00:00<00:00, 534.69it/s]\n"
     ]
    }
   ],
   "source": [
    "c = Config()\n",
    "d = ComboDataset(c)\n",
    "loader = torch.utils.data.DataLoader(d, batch_size=2, shuffle=True, collate_fn=d.collate_fn)\n",
    "loader_val = torch.utils.data.DataLoader(ComboDataset(c, train=False), batch_size=2, collate_fn=d.collate_fn)"
   ]
  },
  {
   "cell_type": "code",
   "execution_count": 4,
   "metadata": {},
   "outputs": [
    {
     "output_type": "stream",
     "name": "stderr",
     "text": [
      "Using cache found in /home/ouroboros/.cache/torch/hub/facebookresearch_WSL-Images_master\n",
      "Loading weights:  weights/midas.pt\n",
      "Model Summary: 147 layers, 5.93877e+07 parameters, 5.93877e+07 gradients\n"
     ]
    }
   ],
   "source": [
    "model = Model(c, d.yolo_dataset.yolo_labels, len(d) / Config.EPOCHS)"
   ]
  },
  {
   "cell_type": "code",
   "execution_count": 5,
   "metadata": {},
   "outputs": [
    {
     "output_type": "stream",
     "name": "stdout",
     "text": [
      "Epoch 0:   3%|▎         | 1/35 [00:30<17:26, 30.78s/it, loss=12.633, v_num=48, total loss=12.6, midas loss=3.75e+3, yolo loss=4.46, planercnn loss=4.42]\n"
     ]
    },
    {
     "output_type": "execute_result",
     "data": {
      "text/plain": [
       "1"
      ]
     },
     "metadata": {},
     "execution_count": 5
    }
   ],
   "source": [
    "trainer = pl.Trainer(max_epochs=c.EPOCHS, gpus=1)\n",
    "trainer.fit(\n",
    "    model,\n",
    "    train_dataloader=loader,\n",
    "    val_dataloaders=loader_val\n",
    ")"
   ]
  },
  {
   "cell_type": "code",
   "execution_count": null,
   "metadata": {},
   "outputs": [],
   "source": []
  }
 ]
}