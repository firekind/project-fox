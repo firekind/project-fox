{
 "metadata": {
  "language_info": {
   "codemirror_mode": {
    "name": "ipython",
    "version": 3
   },
   "file_extension": ".py",
   "mimetype": "text/x-python",
   "name": "python",
   "nbconvert_exporter": "python",
   "pygments_lexer": "ipython3",
   "version": "3.6.12-final"
  },
  "orig_nbformat": 2,
  "kernelspec": {
   "name": "python3",
   "display_name": "Python 3"
  }
 },
 "nbformat": 4,
 "nbformat_minor": 2,
 "cells": [
  {
   "cell_type": "code",
   "execution_count": 1,
   "metadata": {},
   "outputs": [],
   "source": [
    "import os\n",
    "os.chdir('..')"
   ]
  },
  {
   "cell_type": "code",
   "execution_count": 2,
   "metadata": {},
   "outputs": [],
   "source": [
    "from eva5_final.config import Config\n",
    "from eva5_final.dataset import ComboDataset\n",
    "import matplotlib.pyplot as plt"
   ]
  },
  {
   "cell_type": "code",
   "execution_count": 3,
   "metadata": {},
   "outputs": [
    {
     "output_type": "stream",
     "name": "stderr",
     "text": [
      "Caching labels data/yolo/labels.npy (3161 found, 0 missing, 42 empty, 0 duplicate, for 3203 images): 100%|██████████| 3203/3203 [00:00<00:00, 12738.44it/s]\n"
     ]
    }
   ],
   "source": [
    "d = ComboDataset(Config)\n",
    "stuff = next(iter(d))"
   ]
  },
  {
   "cell_type": "code",
   "execution_count": 4,
   "metadata": {},
   "outputs": [
    {
     "output_type": "execute_result",
     "data": {
      "text/plain": [
       "(64, 64, 3)"
      ]
     },
     "metadata": {},
     "execution_count": 4
    }
   ],
   "source": [
    "stuff[0].shape"
   ]
  },
  {
   "cell_type": "code",
   "execution_count": 5,
   "metadata": {},
   "outputs": [
    {
     "output_type": "execute_result",
     "data": {
      "text/plain": [
       "<matplotlib.image.AxesImage at 0x7effe7ad9f98>"
      ]
     },
     "metadata": {},
     "execution_count": 5
    },
    {
     "output_type": "display_data",
     "data": {
      "text/plain": "<Figure size 432x288 with 1 Axes>",
      "image/svg+xml": "<?xml version=\"1.0\" encoding=\"utf-8\" standalone=\"no\"?>\n<!DOCTYPE svg PUBLIC \"-//W3C//DTD SVG 1.1//EN\"\n  \"http://www.w3.org/Graphics/SVG/1.1/DTD/svg11.dtd\">\n<!-- Created with matplotlib (https://matplotlib.org/) -->\n<svg height=\"251.966328pt\" version=\"1.1\" viewBox=\"0 0 252.8375 251.966328\" width=\"252.8375pt\" xmlns=\"http://www.w3.org/2000/svg\" xmlns:xlink=\"http://www.w3.org/1999/xlink\">\n <defs>\n  <style type=\"text/css\">\n*{stroke-linecap:butt;stroke-linejoin:round;}\n  </style>\n </defs>\n <g id=\"figure_1\">\n  <g id=\"patch_1\">\n   <path d=\"M 0 251.966328 \nL 252.8375 251.966328 \nL 252.8375 0 \nL 0 0 \nz\n\" style=\"fill:none;\"/>\n  </g>\n  <g id=\"axes_1\">\n   <g id=\"patch_2\">\n    <path d=\"M 28.1975 227.120391 \nL 245.6375 227.120391 \nL 245.6375 9.680391 \nL 28.1975 9.680391 \nz\n\" style=\"fill:#ffffff;\"/>\n   </g>\n   <g clip-path=\"url(#p02b1384531)\">\n    <image height=\"218\" id=\"image59893effe3\" transform=\"scale(1 -1)translate(0 -218)\" width=\"218\" x=\"28.1975\" xlink:href=\"data:image/png;base64,\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\" y=\"-9.120391\"/>\n   </g>\n   <g id=\"matplotlib.axis_1\">\n    <g id=\"xtick_1\">\n     <g id=\"line2d_1\">\n      <defs>\n       <path d=\"M 0 0 \nL 0 3.5 \n\" id=\"mafb2312f67\" style=\"stroke:#000000;stroke-width:0.8;\"/>\n      </defs>\n      <g>\n       <use style=\"stroke:#000000;stroke-width:0.8;\" x=\"29.89625\" xlink:href=\"#mafb2312f67\" y=\"227.120391\"/>\n      </g>\n     </g>\n     <g id=\"text_1\">\n      <!-- 0 -->\n      <defs>\n       <path d=\"M 31.78125 66.40625 \nQ 24.171875 66.40625 20.328125 58.90625 \nQ 16.5 51.421875 16.5 36.375 \nQ 16.5 21.390625 20.328125 13.890625 \nQ 24.171875 6.390625 31.78125 6.390625 \nQ 39.453125 6.390625 43.28125 13.890625 \nQ 47.125 21.390625 47.125 36.375 \nQ 47.125 51.421875 43.28125 58.90625 \nQ 39.453125 66.40625 31.78125 66.40625 \nz\nM 31.78125 74.21875 \nQ 44.046875 74.21875 50.515625 64.515625 \nQ 56.984375 54.828125 56.984375 36.375 \nQ 56.984375 17.96875 50.515625 8.265625 \nQ 44.046875 -1.421875 31.78125 -1.421875 \nQ 19.53125 -1.421875 13.0625 8.265625 \nQ 6.59375 17.96875 6.59375 36.375 \nQ 6.59375 54.828125 13.0625 64.515625 \nQ 19.53125 74.21875 31.78125 74.21875 \nz\n\" id=\"DejaVuSans-48\"/>\n      </defs>\n      <g transform=\"translate(26.396875 242.478672)scale(0.11 -0.11)\">\n       <use xlink:href=\"#DejaVuSans-48\"/>\n      </g>\n     </g>\n    </g>\n    <g id=\"xtick_2\">\n     <g id=\"line2d_2\">\n      <g>\n       <use style=\"stroke:#000000;stroke-width:0.8;\" x=\"97.84625\" xlink:href=\"#mafb2312f67\" y=\"227.120391\"/>\n      </g>\n     </g>\n     <g id=\"text_2\">\n      <!-- 20 -->\n      <defs>\n       <path d=\"M 19.1875 8.296875 \nL 53.609375 8.296875 \nL 53.609375 0 \nL 7.328125 0 \nL 7.328125 8.296875 \nQ 12.9375 14.109375 22.625 23.890625 \nQ 32.328125 33.6875 34.8125 36.53125 \nQ 39.546875 41.84375 41.421875 45.53125 \nQ 43.3125 49.21875 43.3125 52.78125 \nQ 43.3125 58.59375 39.234375 62.25 \nQ 35.15625 65.921875 28.609375 65.921875 \nQ 23.96875 65.921875 18.8125 64.3125 \nQ 13.671875 62.703125 7.8125 59.421875 \nL 7.8125 69.390625 \nQ 13.765625 71.78125 18.9375 73 \nQ 24.125 74.21875 28.421875 74.21875 \nQ 39.75 74.21875 46.484375 68.546875 \nQ 53.21875 62.890625 53.21875 53.421875 \nQ 53.21875 48.921875 51.53125 44.890625 \nQ 49.859375 40.875 45.40625 35.40625 \nQ 44.1875 33.984375 37.640625 27.21875 \nQ 31.109375 20.453125 19.1875 8.296875 \nz\n\" id=\"DejaVuSans-50\"/>\n      </defs>\n      <g transform=\"translate(90.8475 242.478672)scale(0.11 -0.11)\">\n       <use xlink:href=\"#DejaVuSans-50\"/>\n       <use x=\"63.623047\" xlink:href=\"#DejaVuSans-48\"/>\n      </g>\n     </g>\n    </g>\n    <g id=\"xtick_3\">\n     <g id=\"line2d_3\">\n      <g>\n       <use style=\"stroke:#000000;stroke-width:0.8;\" x=\"165.79625\" xlink:href=\"#mafb2312f67\" y=\"227.120391\"/>\n      </g>\n     </g>\n     <g id=\"text_3\">\n      <!-- 40 -->\n      <defs>\n       <path d=\"M 37.796875 64.3125 \nL 12.890625 25.390625 \nL 37.796875 25.390625 \nz\nM 35.203125 72.90625 \nL 47.609375 72.90625 \nL 47.609375 25.390625 \nL 58.015625 25.390625 \nL 58.015625 17.1875 \nL 47.609375 17.1875 \nL 47.609375 0 \nL 37.796875 0 \nL 37.796875 17.1875 \nL 4.890625 17.1875 \nL 4.890625 26.703125 \nz\n\" id=\"DejaVuSans-52\"/>\n      </defs>\n      <g transform=\"translate(158.7975 242.478672)scale(0.11 -0.11)\">\n       <use xlink:href=\"#DejaVuSans-52\"/>\n       <use x=\"63.623047\" xlink:href=\"#DejaVuSans-48\"/>\n      </g>\n     </g>\n    </g>\n    <g id=\"xtick_4\">\n     <g id=\"line2d_4\">\n      <g>\n       <use style=\"stroke:#000000;stroke-width:0.8;\" x=\"233.74625\" xlink:href=\"#mafb2312f67\" y=\"227.120391\"/>\n      </g>\n     </g>\n     <g id=\"text_4\">\n      <!-- 60 -->\n      <defs>\n       <path d=\"M 33.015625 40.375 \nQ 26.375 40.375 22.484375 35.828125 \nQ 18.609375 31.296875 18.609375 23.390625 \nQ 18.609375 15.53125 22.484375 10.953125 \nQ 26.375 6.390625 33.015625 6.390625 \nQ 39.65625 6.390625 43.53125 10.953125 \nQ 47.40625 15.53125 47.40625 23.390625 \nQ 47.40625 31.296875 43.53125 35.828125 \nQ 39.65625 40.375 33.015625 40.375 \nz\nM 52.59375 71.296875 \nL 52.59375 62.3125 \nQ 48.875 64.0625 45.09375 64.984375 \nQ 41.3125 65.921875 37.59375 65.921875 \nQ 27.828125 65.921875 22.671875 59.328125 \nQ 17.53125 52.734375 16.796875 39.40625 \nQ 19.671875 43.65625 24.015625 45.921875 \nQ 28.375 48.1875 33.59375 48.1875 \nQ 44.578125 48.1875 50.953125 41.515625 \nQ 57.328125 34.859375 57.328125 23.390625 \nQ 57.328125 12.15625 50.6875 5.359375 \nQ 44.046875 -1.421875 33.015625 -1.421875 \nQ 20.359375 -1.421875 13.671875 8.265625 \nQ 6.984375 17.96875 6.984375 36.375 \nQ 6.984375 53.65625 15.1875 63.9375 \nQ 23.390625 74.21875 37.203125 74.21875 \nQ 40.921875 74.21875 44.703125 73.484375 \nQ 48.484375 72.75 52.59375 71.296875 \nz\n\" id=\"DejaVuSans-54\"/>\n      </defs>\n      <g transform=\"translate(226.7475 242.478672)scale(0.11 -0.11)\">\n       <use xlink:href=\"#DejaVuSans-54\"/>\n       <use x=\"63.623047\" xlink:href=\"#DejaVuSans-48\"/>\n      </g>\n     </g>\n    </g>\n   </g>\n   <g id=\"matplotlib.axis_2\">\n    <g id=\"ytick_1\">\n     <g id=\"line2d_5\">\n      <defs>\n       <path d=\"M 0 0 \nL -3.5 0 \n\" id=\"m3df3a6a525\" style=\"stroke:#000000;stroke-width:0.8;\"/>\n      </defs>\n      <g>\n       <use style=\"stroke:#000000;stroke-width:0.8;\" x=\"28.1975\" xlink:href=\"#m3df3a6a525\" y=\"11.379141\"/>\n      </g>\n     </g>\n     <g id=\"text_5\">\n      <!-- 0 -->\n      <g transform=\"translate(14.19875 15.558281)scale(0.11 -0.11)\">\n       <use xlink:href=\"#DejaVuSans-48\"/>\n      </g>\n     </g>\n    </g>\n    <g id=\"ytick_2\">\n     <g id=\"line2d_6\">\n      <g>\n       <use style=\"stroke:#000000;stroke-width:0.8;\" x=\"28.1975\" xlink:href=\"#m3df3a6a525\" y=\"45.354141\"/>\n      </g>\n     </g>\n     <g id=\"text_6\">\n      <!-- 10 -->\n      <defs>\n       <path d=\"M 12.40625 8.296875 \nL 28.515625 8.296875 \nL 28.515625 63.921875 \nL 10.984375 60.40625 \nL 10.984375 69.390625 \nL 28.421875 72.90625 \nL 38.28125 72.90625 \nL 38.28125 8.296875 \nL 54.390625 8.296875 \nL 54.390625 0 \nL 12.40625 0 \nz\n\" id=\"DejaVuSans-49\"/>\n      </defs>\n      <g transform=\"translate(7.2 49.533281)scale(0.11 -0.11)\">\n       <use xlink:href=\"#DejaVuSans-49\"/>\n       <use x=\"63.623047\" xlink:href=\"#DejaVuSans-48\"/>\n      </g>\n     </g>\n    </g>\n    <g id=\"ytick_3\">\n     <g id=\"line2d_7\">\n      <g>\n       <use style=\"stroke:#000000;stroke-width:0.8;\" x=\"28.1975\" xlink:href=\"#m3df3a6a525\" y=\"79.329141\"/>\n      </g>\n     </g>\n     <g id=\"text_7\">\n      <!-- 20 -->\n      <g transform=\"translate(7.2 83.508281)scale(0.11 -0.11)\">\n       <use xlink:href=\"#DejaVuSans-50\"/>\n       <use x=\"63.623047\" xlink:href=\"#DejaVuSans-48\"/>\n      </g>\n     </g>\n    </g>\n    <g id=\"ytick_4\">\n     <g id=\"line2d_8\">\n      <g>\n       <use style=\"stroke:#000000;stroke-width:0.8;\" x=\"28.1975\" xlink:href=\"#m3df3a6a525\" y=\"113.304141\"/>\n      </g>\n     </g>\n     <g id=\"text_8\">\n      <!-- 30 -->\n      <defs>\n       <path d=\"M 40.578125 39.3125 \nQ 47.65625 37.796875 51.625 33 \nQ 55.609375 28.21875 55.609375 21.1875 \nQ 55.609375 10.40625 48.1875 4.484375 \nQ 40.765625 -1.421875 27.09375 -1.421875 \nQ 22.515625 -1.421875 17.65625 -0.515625 \nQ 12.796875 0.390625 7.625 2.203125 \nL 7.625 11.71875 \nQ 11.71875 9.328125 16.59375 8.109375 \nQ 21.484375 6.890625 26.8125 6.890625 \nQ 36.078125 6.890625 40.9375 10.546875 \nQ 45.796875 14.203125 45.796875 21.1875 \nQ 45.796875 27.640625 41.28125 31.265625 \nQ 36.765625 34.90625 28.71875 34.90625 \nL 20.21875 34.90625 \nL 20.21875 43.015625 \nL 29.109375 43.015625 \nQ 36.375 43.015625 40.234375 45.921875 \nQ 44.09375 48.828125 44.09375 54.296875 \nQ 44.09375 59.90625 40.109375 62.90625 \nQ 36.140625 65.921875 28.71875 65.921875 \nQ 24.65625 65.921875 20.015625 65.03125 \nQ 15.375 64.15625 9.8125 62.3125 \nL 9.8125 71.09375 \nQ 15.4375 72.65625 20.34375 73.4375 \nQ 25.25 74.21875 29.59375 74.21875 \nQ 40.828125 74.21875 47.359375 69.109375 \nQ 53.90625 64.015625 53.90625 55.328125 \nQ 53.90625 49.265625 50.4375 45.09375 \nQ 46.96875 40.921875 40.578125 39.3125 \nz\n\" id=\"DejaVuSans-51\"/>\n      </defs>\n      <g transform=\"translate(7.2 117.483281)scale(0.11 -0.11)\">\n       <use xlink:href=\"#DejaVuSans-51\"/>\n       <use x=\"63.623047\" xlink:href=\"#DejaVuSans-48\"/>\n      </g>\n     </g>\n    </g>\n    <g id=\"ytick_5\">\n     <g id=\"line2d_9\">\n      <g>\n       <use style=\"stroke:#000000;stroke-width:0.8;\" x=\"28.1975\" xlink:href=\"#m3df3a6a525\" y=\"147.279141\"/>\n      </g>\n     </g>\n     <g id=\"text_9\">\n      <!-- 40 -->\n      <g transform=\"translate(7.2 151.458281)scale(0.11 -0.11)\">\n       <use xlink:href=\"#DejaVuSans-52\"/>\n       <use x=\"63.623047\" xlink:href=\"#DejaVuSans-48\"/>\n      </g>\n     </g>\n    </g>\n    <g id=\"ytick_6\">\n     <g id=\"line2d_10\">\n      <g>\n       <use style=\"stroke:#000000;stroke-width:0.8;\" x=\"28.1975\" xlink:href=\"#m3df3a6a525\" y=\"181.254141\"/>\n      </g>\n     </g>\n     <g id=\"text_10\">\n      <!-- 50 -->\n      <defs>\n       <path d=\"M 10.796875 72.90625 \nL 49.515625 72.90625 \nL 49.515625 64.59375 \nL 19.828125 64.59375 \nL 19.828125 46.734375 \nQ 21.96875 47.46875 24.109375 47.828125 \nQ 26.265625 48.1875 28.421875 48.1875 \nQ 40.625 48.1875 47.75 41.5 \nQ 54.890625 34.8125 54.890625 23.390625 \nQ 54.890625 11.625 47.5625 5.09375 \nQ 40.234375 -1.421875 26.90625 -1.421875 \nQ 22.3125 -1.421875 17.546875 -0.640625 \nQ 12.796875 0.140625 7.71875 1.703125 \nL 7.71875 11.625 \nQ 12.109375 9.234375 16.796875 8.0625 \nQ 21.484375 6.890625 26.703125 6.890625 \nQ 35.15625 6.890625 40.078125 11.328125 \nQ 45.015625 15.765625 45.015625 23.390625 \nQ 45.015625 31 40.078125 35.4375 \nQ 35.15625 39.890625 26.703125 39.890625 \nQ 22.75 39.890625 18.8125 39.015625 \nQ 14.890625 38.140625 10.796875 36.28125 \nz\n\" id=\"DejaVuSans-53\"/>\n      </defs>\n      <g transform=\"translate(7.2 185.433281)scale(0.11 -0.11)\">\n       <use xlink:href=\"#DejaVuSans-53\"/>\n       <use x=\"63.623047\" xlink:href=\"#DejaVuSans-48\"/>\n      </g>\n     </g>\n    </g>\n    <g id=\"ytick_7\">\n     <g id=\"line2d_11\">\n      <g>\n       <use style=\"stroke:#000000;stroke-width:0.8;\" x=\"28.1975\" xlink:href=\"#m3df3a6a525\" y=\"215.229141\"/>\n      </g>\n     </g>\n     <g id=\"text_11\">\n      <!-- 60 -->\n      <g transform=\"translate(7.2 219.408281)scale(0.11 -0.11)\">\n       <use xlink:href=\"#DejaVuSans-54\"/>\n       <use x=\"63.623047\" xlink:href=\"#DejaVuSans-48\"/>\n      </g>\n     </g>\n    </g>\n   </g>\n   <g id=\"patch_3\">\n    <path d=\"M 28.1975 227.120391 \nL 28.1975 9.680391 \n\" style=\"fill:none;stroke:#000000;stroke-linecap:square;stroke-linejoin:miter;stroke-width:0.8;\"/>\n   </g>\n   <g id=\"patch_4\">\n    <path d=\"M 245.6375 227.120391 \nL 245.6375 9.680391 \n\" style=\"fill:none;stroke:#000000;stroke-linecap:square;stroke-linejoin:miter;stroke-width:0.8;\"/>\n   </g>\n   <g id=\"patch_5\">\n    <path d=\"M 28.1975 227.120391 \nL 245.6375 227.120391 \n\" style=\"fill:none;stroke:#000000;stroke-linecap:square;stroke-linejoin:miter;stroke-width:0.8;\"/>\n   </g>\n   <g id=\"patch_6\">\n    <path d=\"M 28.1975 9.680391 \nL 245.6375 9.680391 \n\" style=\"fill:none;stroke:#000000;stroke-linecap:square;stroke-linejoin:miter;stroke-width:0.8;\"/>\n   </g>\n  </g>\n </g>\n <defs>\n  <clipPath id=\"p02b1384531\">\n   <rect height=\"217.44\" width=\"217.44\" x=\"28.1975\" y=\"9.680391\"/>\n  </clipPath>\n </defs>\n</svg>\n",
      "image/png": "[encoded data removed]"
     },
     "metadata": {
      "needs_background": "light"
     }
    }
   ],
   "source": [
    "plt.imshow(stuff[0])"
   ]
  },
  {
   "cell_type": "code",
   "execution_count": 12,
   "metadata": {},
   "outputs": [
    {
     "output_type": "stream",
     "name": "stdout",
     "text": [
      "<class 'tuple'>\n"
     ]
    },
    {
     "output_type": "execute_result",
     "data": {
      "text/plain": [
       "4"
      ]
     },
     "metadata": {},
     "execution_count": 12
    }
   ],
   "source": [
    "print(type(stuff[2]))\n",
    "len(stuff[2])"
   ]
  },
  {
   "cell_type": "code",
   "execution_count": 2,
   "metadata": {},
   "outputs": [],
   "source": [
    "from eva5_final.dataset import PlaneRCNNDataset\n",
    "from eva5_final.config import PlaneRCNNConfig\n",
    "import torch"
   ]
  },
  {
   "cell_type": "code",
   "execution_count": 3,
   "metadata": {},
   "outputs": [],
   "source": [
    "dataset = PlaneRCNNDataset(PlaneRCNNConfig(), \"data/planercnn/custom.data\")\n",
    "loader = torch.utils.data.DataLoader(\n",
    "    dataset,\n",
    "    batch_size = 16,\n",
    "    num_workers = 4,\n",
    "    shuffle = True,\n",
    "    pin_memory = True,\n",
    "    collate_fn = dataset.collate_fn\n",
    ")"
   ]
  },
  {
   "cell_type": "code",
   "execution_count": 4,
   "metadata": {},
   "outputs": [],
   "source": [
    "stuff = next(iter(loader))"
   ]
  },
  {
   "cell_type": "code",
   "execution_count": 5,
   "metadata": {},
   "outputs": [
    {
     "output_type": "execute_result",
     "data": {
      "text/plain": [
       "16"
      ]
     },
     "metadata": {},
     "execution_count": 5
    }
   ],
   "source": [
    "len(stuff)"
   ]
  },
  {
   "cell_type": "code",
   "execution_count": 6,
   "metadata": {},
   "outputs": [
    {
     "output_type": "stream",
     "name": "stdout",
     "text": [
      "<class 'torch.Tensor'>\n<class 'torch.Tensor'>\n<class 'torch.Tensor'>\n<class 'torch.Tensor'>\n<class 'torch.Tensor'>\n<class 'torch.Tensor'>\n<class 'torch.Tensor'>\n<class 'torch.Tensor'>\n<class 'torch.Tensor'>\n<class 'torch.Tensor'>\n<class 'torch.Tensor'>\n<class 'torch.Tensor'>\n"
     ]
    }
   ],
   "source": [
    "for i in range(12):\n",
    "    print(type(stuff[0][i]))"
   ]
  },
  {
   "cell_type": "code",
   "execution_count": 7,
   "metadata": {},
   "outputs": [
    {
     "output_type": "stream",
     "name": "stdout",
     "text": [
      "torch.Size([1, 3, 640, 640])\ntorch.Size([1, 16])\ntorch.Size([1, 102300, 1])\ntorch.Size([1, 256, 4])\ntorch.Size([1, 13])\ntorch.Size([1, 13, 4])\ntorch.Size([1, 13, 56, 56])\ntorch.Size([1, 13, 3])\ntorch.Size([1, 640, 640])\ntorch.Size([1, 4, 4])\ntorch.Size([1, 640, 640])\ntorch.Size([6])\n"
     ]
    }
   ],
   "source": [
    "for i in range(12):\n",
    "    print(stuff[0][i].shape)"
   ]
  },
  {
   "cell_type": "code",
   "execution_count": null,
   "metadata": {},
   "outputs": [],
   "source": []
  }
 ]
}