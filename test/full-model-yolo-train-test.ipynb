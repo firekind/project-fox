{
 "metadata": {
  "language_info": {
   "codemirror_mode": {
    "name": "ipython",
    "version": 3
   },
   "file_extension": ".py",
   "mimetype": "text/x-python",
   "name": "python",
   "nbconvert_exporter": "python",
   "pygments_lexer": "ipython3",
   "version": "3.6.12-final"
  },
  "orig_nbformat": 2,
  "kernelspec": {
   "name": "python3",
   "display_name": "Python 3"
  }
 },
 "nbformat": 4,
 "nbformat_minor": 2,
 "cells": [
  {
   "cell_type": "code",
   "execution_count": 1,
   "metadata": {},
   "outputs": [],
   "source": [
    "import os\n",
    "os.chdir('..')"
   ]
  },
  {
   "cell_type": "code",
   "execution_count": 2,
   "metadata": {},
   "outputs": [],
   "source": [
    "from fox.config import Config\n",
    "from fox.dataset import ComboDataset\n",
    "from fox.model_yolo import Model\n",
    "from fox.train import train\n",
    "import matplotlib.pyplot as plt\n",
    "import torch\n",
    "\n",
    "from fox.yolov3.utils.datasets import LoadImagesAndLabels\n",
    "from fox.utils import parse_data_cfg"
   ]
  },
  {
   "cell_type": "code",
   "execution_count": 3,
   "metadata": {},
   "outputs": [
    {
     "output_type": "stream",
     "name": "stderr",
     "text": [
      "Caching labels data/mini/yolo/train.txt (64 found, 0 missing, 0 empty, 0 duplicate, for 64 images): 100%|██████████| 64/64 [00:00<00:00, 1408.61it/s]\n",
      "Caching labels data/mini/yolo/test.txt (5 found, 0 missing, 0 empty, 0 duplicate, for 5 images): 100%|██████████| 5/5 [00:00<00:00, 1017.24it/s]\n"
     ]
    }
   ],
   "source": [
    "c = Config(USE_PLANERCNN=False, BATCH_SIZE=2)\n",
    "# d = ComboDataset(c)\n",
    "# loader = torch.utils.data.DataLoader(d, batch_size=2, shuffle=True, collate_fn=d.collate_fn)\n",
    "# loader_val = torch.utils.data.DataLoader(ComboDataset(c, train=False), batch_size=2, collate_fn=d.collate_fn)\n",
    "\n",
    "def collate_fn(batch):\n",
    "    yolo_data = LoadImagesAndLabels.collate_fn(batch)\n",
    "    return yolo_data[0].float() / 255, None, yolo_data, None\n",
    "\n",
    "data = parse_data_cfg(\"data/mini/yolo/custom.data\")\n",
    "d = LoadImagesAndLabels(\n",
    "    data[\"train\"],\n",
    "    c.yolo_config.opt.img_size[1],\n",
    "    c.BATCH_SIZE,\n",
    "    augment=True,\n",
    "    hyp=c.yolo_config.hyp,\n",
    "    rect=c.yolo_config.opt.rect,\n",
    "    cache_images=c.yolo_config.opt.cache_images,\n",
    "    single_cls=False,\n",
    "    mosiac=False,\n",
    "    label_files_path=data[\"labels\"]\n",
    ")\n",
    "loader = torch.utils.data.DataLoader(d, batch_size=c.BATCH_SIZE, shuffle=True, pin_memory=True, collate_fn=collate_fn)\n",
    "\n",
    "loader_val = torch.utils.data.DataLoader(\n",
    "    LoadImagesAndLabels(\n",
    "        data[\"valid\"],\n",
    "        c.yolo_config.opt.img_size[-1],\n",
    "        c.BATCH_SIZE,\n",
    "        hyp=c.yolo_config.hyp,\n",
    "        rect=True,\n",
    "        cache_images=c.yolo_config.opt.cache_images,\n",
    "        single_cls=False,\n",
    "        label_files_path=data[\"labels\"]\n",
    "    ),\n",
    "    batch_size=c.BATCH_SIZE, pin_memory=True, collate_fn=collate_fn\n",
    ")\n"
   ]
  },
  {
   "cell_type": "code",
   "execution_count": 4,
   "metadata": {},
   "outputs": [
    {
     "output_type": "stream",
     "name": "stderr",
     "text": [
      "Using cache found in /home/ouroboros/.cache/torch/hub/facebookresearch_WSL-Images_master\n",
      "Loading weights:  weights/midas.pt\n",
      "Model Summary: 147 layers, 5.93877e+07 parameters, 5.93877e+07 gradients\n",
      "Model Summary: 147 layers, 5.93877e+07 parameters, 5.93877e+07 gradients\n"
     ]
    }
   ],
   "source": [
    "# model = Model(c, d.yolo_dataset.yolo_labels, len(loader)).to(\"cuda\")\n",
    "model = Model(c, d.yolo_labels, len(loader)).to(\"cuda\")"
   ]
  },
  {
   "cell_type": "code",
   "execution_count": 5,
   "metadata": {},
   "outputs": [
    {
     "output_type": "stream",
     "name": "stderr",
     "text": [
      "Epoch 0:   0%|          | 0/32 [00:02<?, ?it/s, loss=0.2499, midas_loss=0.0000, yolo_loss=0.2499]\n",
      "100%|██████████| 3/3 [00:02<00:00,  1.16it/s, map=0.0001, yolo_loss=9.7578]\n",
      "Epoch 1:   0%|          | 0/32 [00:01<?, ?it/s, loss=0.3636, midas_loss=0.0000, yolo_loss=0.3636]\n",
      "100%|██████████| 3/3 [00:02<00:00,  1.23it/s, map=0.0001, yolo_loss=9.7600]\n",
      "Epoch 2:   0%|          | 0/32 [00:01<?, ?it/s, loss=0.2311, midas_loss=0.0000, yolo_loss=0.2311]\n"
     ]
    },
    {
     "output_type": "error",
     "ename": "KeyboardInterrupt",
     "evalue": "",
     "traceback": [
      "\u001b[0;31m---------------------------------------------------------------------------\u001b[0m",
      "\u001b[0;31mKeyboardInterrupt\u001b[0m                         Traceback (most recent call last)",
      "\u001b[0;32m<ipython-input-5-2d9ca146cda8>\u001b[0m in \u001b[0;36m<module>\u001b[0;34m\u001b[0m\n\u001b[0;32m----> 1\u001b[0;31m \u001b[0mtrain\u001b[0m\u001b[0;34m(\u001b[0m\u001b[0mmodel\u001b[0m\u001b[0;34m,\u001b[0m \u001b[0mc\u001b[0m\u001b[0;34m,\u001b[0m \u001b[0mloader\u001b[0m\u001b[0;34m,\u001b[0m \u001b[0mloader_val\u001b[0m\u001b[0;34m,\u001b[0m \u001b[0mdevice\u001b[0m\u001b[0;34m=\u001b[0m\u001b[0;34m\"cuda\"\u001b[0m\u001b[0;34m)\u001b[0m\u001b[0;34m\u001b[0m\u001b[0;34m\u001b[0m\u001b[0m\n\u001b[0m",
      "\u001b[0;32m/d/Users/shyam/Projects/eva5-final/fox/train.py\u001b[0m in \u001b[0;36mtrain\u001b[0;34m(model, config, loader, val_loader, device)\u001b[0m\n\u001b[1;32m     60\u001b[0m                 \u001b[0moptimizer\u001b[0m\u001b[0;34m.\u001b[0m\u001b[0mstep\u001b[0m\u001b[0;34m(\u001b[0m\u001b[0;34m)\u001b[0m\u001b[0;34m\u001b[0m\u001b[0;34m\u001b[0m\u001b[0m\n\u001b[1;32m     61\u001b[0m                 \u001b[0moptimizer\u001b[0m\u001b[0;34m.\u001b[0m\u001b[0mzero_grad\u001b[0m\u001b[0;34m(\u001b[0m\u001b[0;34m)\u001b[0m\u001b[0;34m\u001b[0m\u001b[0;34m\u001b[0m\u001b[0m\n\u001b[0;32m---> 62\u001b[0;31m                 \u001b[0myolo_ema\u001b[0m\u001b[0;34m.\u001b[0m\u001b[0mupdate\u001b[0m\u001b[0;34m(\u001b[0m\u001b[0mmodel\u001b[0m\u001b[0;34m.\u001b[0m\u001b[0myolo_part\u001b[0m\u001b[0;34m)\u001b[0m\u001b[0;34m\u001b[0m\u001b[0;34m\u001b[0m\u001b[0m\n\u001b[0m\u001b[1;32m     63\u001b[0m \u001b[0;34m\u001b[0m\u001b[0m\n\u001b[1;32m     64\u001b[0m             \u001b[0;32mbreak\u001b[0m\u001b[0;34m\u001b[0m\u001b[0;34m\u001b[0m\u001b[0m\n",
      "\u001b[0;32m/d/Users/shyam/Projects/eva5-final/fox/yolov3/utils/torch_utils.py\u001b[0m in \u001b[0;36mupdate\u001b[0;34m(self, model)\u001b[0m\n\u001b[1;32m    187\u001b[0m                     \u001b[0mv\u001b[0m \u001b[0;34m=\u001b[0m \u001b[0mv\u001b[0m\u001b[0;34m.\u001b[0m\u001b[0mto\u001b[0m\u001b[0;34m(\u001b[0m\u001b[0mmsd\u001b[0m\u001b[0;34m[\u001b[0m\u001b[0mk\u001b[0m\u001b[0;34m]\u001b[0m\u001b[0;34m.\u001b[0m\u001b[0mdevice\u001b[0m\u001b[0;34m)\u001b[0m\u001b[0;34m\u001b[0m\u001b[0;34m\u001b[0m\u001b[0m\n\u001b[1;32m    188\u001b[0m                     \u001b[0mv\u001b[0m \u001b[0;34m*=\u001b[0m \u001b[0md\u001b[0m\u001b[0;34m\u001b[0m\u001b[0;34m\u001b[0m\u001b[0m\n\u001b[0;32m--> 189\u001b[0;31m                     \u001b[0mv\u001b[0m \u001b[0;34m+=\u001b[0m \u001b[0;34m(\u001b[0m\u001b[0;36m1.\u001b[0m \u001b[0;34m-\u001b[0m \u001b[0md\u001b[0m\u001b[0;34m)\u001b[0m \u001b[0;34m*\u001b[0m \u001b[0mmsd\u001b[0m\u001b[0;34m[\u001b[0m\u001b[0mk\u001b[0m\u001b[0;34m]\u001b[0m\u001b[0;34m.\u001b[0m\u001b[0mdetach\u001b[0m\u001b[0;34m(\u001b[0m\u001b[0;34m)\u001b[0m\u001b[0;34m\u001b[0m\u001b[0;34m\u001b[0m\u001b[0m\n\u001b[0m\u001b[1;32m    190\u001b[0m \u001b[0;34m\u001b[0m\u001b[0m\n\u001b[1;32m    191\u001b[0m     \u001b[0;32mdef\u001b[0m \u001b[0mupdate_attr\u001b[0m\u001b[0;34m(\u001b[0m\u001b[0mself\u001b[0m\u001b[0;34m,\u001b[0m \u001b[0mmodel\u001b[0m\u001b[0;34m)\u001b[0m\u001b[0;34m:\u001b[0m\u001b[0;34m\u001b[0m\u001b[0;34m\u001b[0m\u001b[0m\n",
      "\u001b[0;31mKeyboardInterrupt\u001b[0m: "
     ]
    }
   ],
   "source": [
    "train(model, c, loader, loader_val, device=\"cuda\")"
   ]
  },
  {
   "cell_type": "code",
   "execution_count": null,
   "metadata": {},
   "outputs": [],
   "source": []
  }
 ]
}