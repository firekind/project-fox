{
 "metadata": {
  "language_info": {
   "codemirror_mode": {
    "name": "ipython",
    "version": 3
   },
   "file_extension": ".py",
   "mimetype": "text/x-python",
   "name": "python",
   "nbconvert_exporter": "python",
   "pygments_lexer": "ipython3",
   "version": "3.6.12-final"
  },
  "orig_nbformat": 2,
  "kernelspec": {
   "name": "python3",
   "display_name": "Python 3"
  }
 },
 "nbformat": 4,
 "nbformat_minor": 2,
 "cells": [
  {
   "cell_type": "code",
   "execution_count": 1,
   "metadata": {},
   "outputs": [],
   "source": [
    "import os\n",
    "os.chdir('..')"
   ]
  },
  {
   "cell_type": "code",
   "execution_count": 2,
   "metadata": {},
   "outputs": [],
   "source": [
    "from fox.config import Config\n",
    "from fox.dataset import ComboDataset\n",
    "from fox.model import Model\n",
    "import matplotlib.pyplot as plt\n",
    "import torch\n",
    "import pytorch_lightning as pl"
   ]
  },
  {
   "cell_type": "code",
   "execution_count": 3,
   "metadata": {},
   "outputs": [
    {
     "output_type": "stream",
     "name": "stderr",
     "text": [
      "Caching labels data/mini/yolo/train.txt (64 found, 0 missing, 0 empty, 0 duplicate, for 64 images): 100%|██████████| 64/64 [00:00<00:00, 1265.82it/s]\n",
      "Caching labels data/mini/yolo/test.txt (5 found, 0 missing, 0 empty, 0 duplicate, for 5 images): 100%|██████████| 5/5 [00:00<00:00, 821.25it/s]\n"
     ]
    }
   ],
   "source": [
    "c = Config(USE_PLANERCNN=False)\n",
    "d = ComboDataset(c)\n",
    "loader = torch.utils.data.DataLoader(d, batch_size=2, shuffle=True, collate_fn=d.collate_fn)\n",
    "loader_val = torch.utils.data.DataLoader(ComboDataset(c, train=False), batch_size=2, collate_fn=d.collate_fn)"
   ]
  },
  {
   "cell_type": "code",
   "execution_count": 4,
   "metadata": {},
   "outputs": [
    {
     "output_type": "stream",
     "name": "stderr",
     "text": [
      "Using cache found in /home/ouroboros/.cache/torch/hub/facebookresearch_WSL-Images_master\n",
      "Loading weights:  weights/midas.pt\n",
      "Model Summary: 147 layers, 5.93877e+07 parameters, 5.93877e+07 gradients\n"
     ]
    }
   ],
   "source": [
    "model = Model(c, d.yolo_dataset.yolo_labels, len(loader))"
   ]
  },
  {
   "cell_type": "code",
   "execution_count": 5,
   "metadata": {},
   "outputs": [
    {
     "output_type": "stream",
     "name": "stdout",
     "text": [
      "Validation sanity check: 100%|██████████| 2/2 [00:05<00:00,  3.01s/it]0.0\n",
      "Epoch 0:  91%|█████████▏| 32/35 [02:22<00:13,  4.47s/it, loss=nan, v_num=93, total loss=6.02, midas loss=4.2e+3, yolo loss=1.82] \n",
      "Validating: 0it [00:00, ?it/s]\u001b[A\n",
      "Epoch 0:  94%|█████████▍| 33/35 [02:25<00:08,  4.42s/it, loss=nan, v_num=93, total loss=6.02, midas loss=4.2e+3, yolo loss=1.82]\n",
      "Epoch 0:  97%|█████████▋| 34/35 [02:28<00:04,  4.38s/it, loss=nan, v_num=93, total loss=6.02, midas loss=4.2e+3, yolo loss=1.82]\n",
      "Epoch 0: 100%|██████████| 35/35 [02:30<00:00,  4.29s/it, loss=nan, v_num=93, total loss=6.02, midas loss=4.2e+3, yolo loss=1.82]0.0\n",
      "Epoch 0: 100%|██████████| 35/35 [02:43<00:00,  4.67s/it, loss=nan, v_num=93, total loss=6.02, midas loss=4.2e+3, yolo loss=1.82, avg yolo val loss=85.6, yolo mAP=0]\n",
      "Epoch 1:  11%|█▏        | 4/35 [00:34<04:30,  8.72s/it, loss=nan, v_num=93, total loss=5.31, midas loss=3.43e+3, yolo loss=1.89, avg yolo val loss=85.6, yolo mAP=0, avg yolo loss=2.67, avg midas loss=3.52e+3, avg total loss=6.19]\n"
     ]
    },
    {
     "output_type": "execute_result",
     "data": {
      "text/plain": [
       "1"
      ]
     },
     "metadata": {},
     "execution_count": 5
    }
   ],
   "source": [
    "trainer = pl.Trainer(max_epochs=c.EPOCHS, gpus=1, automatic_optimization=False)\n",
    "trainer.fit(\n",
    "    model,\n",
    "    train_dataloader=loader,\n",
    "    val_dataloaders=loader_val\n",
    ")"
   ]
  },
  {
   "cell_type": "code",
   "execution_count": null,
   "metadata": {},
   "outputs": [],
   "source": []
  }
 ]
}