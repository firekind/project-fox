{
 "metadata": {
  "language_info": {
   "codemirror_mode": {
    "name": "ipython",
    "version": 3
   },
   "file_extension": ".py",
   "mimetype": "text/x-python",
   "name": "python",
   "nbconvert_exporter": "python",
   "pygments_lexer": "ipython3",
   "version": "3.6.12-final"
  },
  "orig_nbformat": 2,
  "kernelspec": {
   "name": "python3",
   "display_name": "Python 3"
  }
 },
 "nbformat": 4,
 "nbformat_minor": 2,
 "cells": [
  {
   "cell_type": "code",
   "execution_count": 1,
   "metadata": {},
   "outputs": [],
   "source": [
    "import os\n",
    "os.chdir('..')"
   ]
  },
  {
   "cell_type": "code",
   "execution_count": 2,
   "metadata": {},
   "outputs": [],
   "source": [
    "from eva5_final.model import Model\n",
    "from eva5_final.dataset import ComboDataset\n",
    "from eva5_final.config import Config\n",
    "from eva5_final.yolov3.utils.datasets import LoadImagesAndLabels\n",
    "import pytorch_lightning as pl\n",
    "import torch\n",
    "import matplotlib.pyplot as plt"
   ]
  },
  {
   "cell_type": "code",
   "execution_count": 3,
   "metadata": {},
   "outputs": [
    {
     "output_type": "stream",
     "name": "stderr",
     "text": [
      "Caching labels data/yolo/labels.npy (3034 found, 0 missing, 169 empty, 0 duplicate, for 3203 images): 100%|██████████| 3203/3203 [00:00<00:00, 13417.74it/s]\n",
      "Caching labels data/yolo/labels.npy (297 found, 14 missing, 7 empty, 0 duplicate, for 318 images): 100%|██████████| 318/318 [00:00<00:00, 1717.56it/s]\n"
     ]
    }
   ],
   "source": [
    "train_dataset = ComboDataset(Config)\n",
    "train_loader = torch.utils.data.DataLoader(\n",
    "    train_dataset,\n",
    "    batch_size = Config.BATCH_SIZE,\n",
    "    num_workers = 4,\n",
    "    shuffle = not Config.yolo_config.opt.rect,\n",
    "    pin_memory = True,\n",
    "    collate_fn = train_dataset.collate_fn\n",
    ")\n",
    "\n",
    "val_dataset = ComboDataset(Config, train=False)\n",
    "val_loader = torch.utils.data.DataLoader(\n",
    "    val_dataset,\n",
    "    batch_size = Config.BATCH_SIZE,\n",
    "    num_workers = 4,\n",
    "    pin_memory = True,\n",
    "    collate_fn = val_dataset.collate_fn\n",
    ")\n"
   ]
  },
  {
   "cell_type": "code",
   "execution_count": 4,
   "metadata": {},
   "outputs": [
    {
     "output_type": "stream",
     "name": "stderr",
     "text": [
      "Using cache found in /home/ouroboros/.cache/torch/hub/facebookresearch_WSL-Images_master\n",
      "Loading weights:  weights/midas.pt\n",
      "Model Summary: 147 layers, 5.93877e+07 parameters, 5.93877e+07 gradients\n"
     ]
    }
   ],
   "source": [
    "model = Model(Config, train_dataset.yolo_labels, len(train_dataset) / Config.EPOCHS)"
   ]
  },
  {
   "cell_type": "code",
   "execution_count": 5,
   "metadata": {},
   "outputs": [
    {
     "output_type": "stream",
     "name": "stderr",
     "text": [
      "GPU available: True, used: False\n",
      "TPU available: False, using: 0 TPU cores\n",
      "\n",
      "  | Name          | Type     | Params\n",
      "-------------------------------------------\n",
      "0 | midas_net     | MidasNet | 105 M \n",
      "1 | yolo_head     | YoloHead | 5 M   \n",
      "2 | yolo_detector | Darknet  | 59 M  \n",
      "Epoch 0:   2%|▏         | 4/221 [00:28<25:34,  7.07s/it, loss=6.338, v_num=8, yolo loss=6.05]\n"
     ]
    },
    {
     "output_type": "execute_result",
     "data": {
      "text/plain": [
       "1"
      ]
     },
     "metadata": {},
     "execution_count": 5
    }
   ],
   "source": [
    "trainer = pl.Trainer(max_epochs=Config.EPOCHS)\n",
    "trainer.fit(\n",
    "    model,\n",
    "    train_dataloader=train_loader,\n",
    "    val_dataloaders=val_loader\n",
    ")"
   ]
  },
  {
   "cell_type": "code",
   "execution_count": null,
   "metadata": {},
   "outputs": [],
   "source": []
  }
 ]
}